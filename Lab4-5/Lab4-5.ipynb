{
 "cells": [
  {
   "cell_type": "markdown",
   "metadata": {},
   "source": [
    "# Цель лабораторной работы: изучение сложных способов подготовки выборки и подбора гиперпараметров на примере метода ближайших соседей."
   ]
  },
  {
   "cell_type": "code",
   "execution_count": 1,
   "metadata": {},
   "outputs": [],
   "source": [
    "import numpy as np\n",
    "import pandas as pd\n",
    "import matplotlib.pyplot as plt\n",
    "import seaborn as sns\n",
    "from sklearn.neighbors import KNeighborsClassifier \n",
    "from sklearn.model_selection  import cross_val_score, train_test_split\n",
    "from sklearn.preprocessing import LabelEncoder\n",
    "pd.options.mode.chained_assignment = None"
   ]
  },
  {
   "cell_type": "code",
   "execution_count": 2,
   "metadata": {},
   "outputs": [],
   "source": [
    "df=pd.read_csv('weatherAUS.csv')"
   ]
  },
  {
   "cell_type": "code",
   "execution_count": 3,
   "metadata": {},
   "outputs": [
    {
     "data": {
      "text/html": [
       "<div>\n",
       "<style scoped>\n",
       "    .dataframe tbody tr th:only-of-type {\n",
       "        vertical-align: middle;\n",
       "    }\n",
       "\n",
       "    .dataframe tbody tr th {\n",
       "        vertical-align: top;\n",
       "    }\n",
       "\n",
       "    .dataframe thead th {\n",
       "        text-align: right;\n",
       "    }\n",
       "</style>\n",
       "<table border=\"1\" class=\"dataframe\">\n",
       "  <thead>\n",
       "    <tr style=\"text-align: right;\">\n",
       "      <th></th>\n",
       "      <th>Date</th>\n",
       "      <th>Location</th>\n",
       "      <th>MinTemp</th>\n",
       "      <th>MaxTemp</th>\n",
       "      <th>Rainfall</th>\n",
       "      <th>Evaporation</th>\n",
       "      <th>Sunshine</th>\n",
       "      <th>WindGustDir</th>\n",
       "      <th>WindGustSpeed</th>\n",
       "      <th>WindDir9am</th>\n",
       "      <th>...</th>\n",
       "      <th>Humidity3pm</th>\n",
       "      <th>Pressure9am</th>\n",
       "      <th>Pressure3pm</th>\n",
       "      <th>Cloud9am</th>\n",
       "      <th>Cloud3pm</th>\n",
       "      <th>Temp9am</th>\n",
       "      <th>Temp3pm</th>\n",
       "      <th>RainToday</th>\n",
       "      <th>RISK_MM</th>\n",
       "      <th>RainTomorrow</th>\n",
       "    </tr>\n",
       "  </thead>\n",
       "  <tbody>\n",
       "    <tr>\n",
       "      <th>0</th>\n",
       "      <td>2008-12-01</td>\n",
       "      <td>Albury</td>\n",
       "      <td>13.4</td>\n",
       "      <td>22.9</td>\n",
       "      <td>0.6</td>\n",
       "      <td>NaN</td>\n",
       "      <td>NaN</td>\n",
       "      <td>W</td>\n",
       "      <td>44.0</td>\n",
       "      <td>W</td>\n",
       "      <td>...</td>\n",
       "      <td>22.0</td>\n",
       "      <td>1007.7</td>\n",
       "      <td>1007.1</td>\n",
       "      <td>8.0</td>\n",
       "      <td>NaN</td>\n",
       "      <td>16.9</td>\n",
       "      <td>21.8</td>\n",
       "      <td>No</td>\n",
       "      <td>0.0</td>\n",
       "      <td>No</td>\n",
       "    </tr>\n",
       "    <tr>\n",
       "      <th>1</th>\n",
       "      <td>2008-12-02</td>\n",
       "      <td>Albury</td>\n",
       "      <td>7.4</td>\n",
       "      <td>25.1</td>\n",
       "      <td>0.0</td>\n",
       "      <td>NaN</td>\n",
       "      <td>NaN</td>\n",
       "      <td>WNW</td>\n",
       "      <td>44.0</td>\n",
       "      <td>NNW</td>\n",
       "      <td>...</td>\n",
       "      <td>25.0</td>\n",
       "      <td>1010.6</td>\n",
       "      <td>1007.8</td>\n",
       "      <td>NaN</td>\n",
       "      <td>NaN</td>\n",
       "      <td>17.2</td>\n",
       "      <td>24.3</td>\n",
       "      <td>No</td>\n",
       "      <td>0.0</td>\n",
       "      <td>No</td>\n",
       "    </tr>\n",
       "    <tr>\n",
       "      <th>2</th>\n",
       "      <td>2008-12-03</td>\n",
       "      <td>Albury</td>\n",
       "      <td>12.9</td>\n",
       "      <td>25.7</td>\n",
       "      <td>0.0</td>\n",
       "      <td>NaN</td>\n",
       "      <td>NaN</td>\n",
       "      <td>WSW</td>\n",
       "      <td>46.0</td>\n",
       "      <td>W</td>\n",
       "      <td>...</td>\n",
       "      <td>30.0</td>\n",
       "      <td>1007.6</td>\n",
       "      <td>1008.7</td>\n",
       "      <td>NaN</td>\n",
       "      <td>2.0</td>\n",
       "      <td>21.0</td>\n",
       "      <td>23.2</td>\n",
       "      <td>No</td>\n",
       "      <td>0.0</td>\n",
       "      <td>No</td>\n",
       "    </tr>\n",
       "    <tr>\n",
       "      <th>3</th>\n",
       "      <td>2008-12-04</td>\n",
       "      <td>Albury</td>\n",
       "      <td>9.2</td>\n",
       "      <td>28.0</td>\n",
       "      <td>0.0</td>\n",
       "      <td>NaN</td>\n",
       "      <td>NaN</td>\n",
       "      <td>NE</td>\n",
       "      <td>24.0</td>\n",
       "      <td>SE</td>\n",
       "      <td>...</td>\n",
       "      <td>16.0</td>\n",
       "      <td>1017.6</td>\n",
       "      <td>1012.8</td>\n",
       "      <td>NaN</td>\n",
       "      <td>NaN</td>\n",
       "      <td>18.1</td>\n",
       "      <td>26.5</td>\n",
       "      <td>No</td>\n",
       "      <td>1.0</td>\n",
       "      <td>No</td>\n",
       "    </tr>\n",
       "    <tr>\n",
       "      <th>4</th>\n",
       "      <td>2008-12-05</td>\n",
       "      <td>Albury</td>\n",
       "      <td>17.5</td>\n",
       "      <td>32.3</td>\n",
       "      <td>1.0</td>\n",
       "      <td>NaN</td>\n",
       "      <td>NaN</td>\n",
       "      <td>W</td>\n",
       "      <td>41.0</td>\n",
       "      <td>ENE</td>\n",
       "      <td>...</td>\n",
       "      <td>33.0</td>\n",
       "      <td>1010.8</td>\n",
       "      <td>1006.0</td>\n",
       "      <td>7.0</td>\n",
       "      <td>8.0</td>\n",
       "      <td>17.8</td>\n",
       "      <td>29.7</td>\n",
       "      <td>No</td>\n",
       "      <td>0.2</td>\n",
       "      <td>No</td>\n",
       "    </tr>\n",
       "  </tbody>\n",
       "</table>\n",
       "<p>5 rows × 24 columns</p>\n",
       "</div>"
      ],
      "text/plain": [
       "         Date Location  MinTemp  MaxTemp  Rainfall  Evaporation  Sunshine  \\\n",
       "0  2008-12-01   Albury     13.4     22.9       0.6          NaN       NaN   \n",
       "1  2008-12-02   Albury      7.4     25.1       0.0          NaN       NaN   \n",
       "2  2008-12-03   Albury     12.9     25.7       0.0          NaN       NaN   \n",
       "3  2008-12-04   Albury      9.2     28.0       0.0          NaN       NaN   \n",
       "4  2008-12-05   Albury     17.5     32.3       1.0          NaN       NaN   \n",
       "\n",
       "  WindGustDir  WindGustSpeed WindDir9am  ... Humidity3pm  Pressure9am  \\\n",
       "0           W           44.0          W  ...        22.0       1007.7   \n",
       "1         WNW           44.0        NNW  ...        25.0       1010.6   \n",
       "2         WSW           46.0          W  ...        30.0       1007.6   \n",
       "3          NE           24.0         SE  ...        16.0       1017.6   \n",
       "4           W           41.0        ENE  ...        33.0       1010.8   \n",
       "\n",
       "   Pressure3pm  Cloud9am  Cloud3pm  Temp9am  Temp3pm  RainToday  RISK_MM  \\\n",
       "0       1007.1       8.0       NaN     16.9     21.8         No      0.0   \n",
       "1       1007.8       NaN       NaN     17.2     24.3         No      0.0   \n",
       "2       1008.7       NaN       2.0     21.0     23.2         No      0.0   \n",
       "3       1012.8       NaN       NaN     18.1     26.5         No      1.0   \n",
       "4       1006.0       7.0       8.0     17.8     29.7         No      0.2   \n",
       "\n",
       "   RainTomorrow  \n",
       "0            No  \n",
       "1            No  \n",
       "2            No  \n",
       "3            No  \n",
       "4            No  \n",
       "\n",
       "[5 rows x 24 columns]"
      ]
     },
     "execution_count": 3,
     "metadata": {},
     "output_type": "execute_result"
    }
   ],
   "source": [
    "df.head()"
   ]
  },
  {
   "cell_type": "code",
   "execution_count": 4,
   "metadata": {},
   "outputs": [
    {
     "name": "stdout",
     "output_type": "stream",
     "text": [
      "<class 'pandas.core.frame.DataFrame'>\n",
      "RangeIndex: 142193 entries, 0 to 142192\n",
      "Data columns (total 24 columns):\n",
      " #   Column         Non-Null Count   Dtype  \n",
      "---  ------         --------------   -----  \n",
      " 0   Date           142193 non-null  object \n",
      " 1   Location       142193 non-null  object \n",
      " 2   MinTemp        141556 non-null  float64\n",
      " 3   MaxTemp        141871 non-null  float64\n",
      " 4   Rainfall       140787 non-null  float64\n",
      " 5   Evaporation    81350 non-null   float64\n",
      " 6   Sunshine       74377 non-null   float64\n",
      " 7   WindGustDir    132863 non-null  object \n",
      " 8   WindGustSpeed  132923 non-null  float64\n",
      " 9   WindDir9am     132180 non-null  object \n",
      " 10  WindDir3pm     138415 non-null  object \n",
      " 11  WindSpeed9am   140845 non-null  float64\n",
      " 12  WindSpeed3pm   139563 non-null  float64\n",
      " 13  Humidity9am    140419 non-null  float64\n",
      " 14  Humidity3pm    138583 non-null  float64\n",
      " 15  Pressure9am    128179 non-null  float64\n",
      " 16  Pressure3pm    128212 non-null  float64\n",
      " 17  Cloud9am       88536 non-null   float64\n",
      " 18  Cloud3pm       85099 non-null   float64\n",
      " 19  Temp9am        141289 non-null  float64\n",
      " 20  Temp3pm        139467 non-null  float64\n",
      " 21  RainToday      140787 non-null  object \n",
      " 22  RISK_MM        142193 non-null  float64\n",
      " 23  RainTomorrow   142193 non-null  object \n",
      "dtypes: float64(17), object(7)\n",
      "memory usage: 26.0+ MB\n"
     ]
    }
   ],
   "source": [
    "df.info()"
   ]
  },
  {
   "cell_type": "code",
   "execution_count": 5,
   "metadata": {},
   "outputs": [
    {
     "data": {
      "text/html": [
       "<div>\n",
       "<style scoped>\n",
       "    .dataframe tbody tr th:only-of-type {\n",
       "        vertical-align: middle;\n",
       "    }\n",
       "\n",
       "    .dataframe tbody tr th {\n",
       "        vertical-align: top;\n",
       "    }\n",
       "\n",
       "    .dataframe thead th {\n",
       "        text-align: right;\n",
       "    }\n",
       "</style>\n",
       "<table border=\"1\" class=\"dataframe\">\n",
       "  <thead>\n",
       "    <tr style=\"text-align: right;\">\n",
       "      <th></th>\n",
       "      <th>MinTemp</th>\n",
       "      <th>MaxTemp</th>\n",
       "      <th>Rainfall</th>\n",
       "      <th>Evaporation</th>\n",
       "      <th>Sunshine</th>\n",
       "      <th>WindGustSpeed</th>\n",
       "      <th>WindSpeed9am</th>\n",
       "      <th>WindSpeed3pm</th>\n",
       "      <th>Humidity9am</th>\n",
       "      <th>Humidity3pm</th>\n",
       "      <th>Pressure9am</th>\n",
       "      <th>Pressure3pm</th>\n",
       "      <th>Cloud9am</th>\n",
       "      <th>Cloud3pm</th>\n",
       "      <th>Temp9am</th>\n",
       "      <th>Temp3pm</th>\n",
       "      <th>RISK_MM</th>\n",
       "      <th>RainTomorrow</th>\n",
       "    </tr>\n",
       "  </thead>\n",
       "  <tbody>\n",
       "    <tr>\n",
       "      <th>0</th>\n",
       "      <td>13.4</td>\n",
       "      <td>22.9</td>\n",
       "      <td>0.6</td>\n",
       "      <td>NaN</td>\n",
       "      <td>NaN</td>\n",
       "      <td>44.0</td>\n",
       "      <td>20.0</td>\n",
       "      <td>24.0</td>\n",
       "      <td>71.0</td>\n",
       "      <td>22.0</td>\n",
       "      <td>1007.7</td>\n",
       "      <td>1007.1</td>\n",
       "      <td>8.0</td>\n",
       "      <td>NaN</td>\n",
       "      <td>16.9</td>\n",
       "      <td>21.8</td>\n",
       "      <td>0.0</td>\n",
       "      <td>No</td>\n",
       "    </tr>\n",
       "    <tr>\n",
       "      <th>1</th>\n",
       "      <td>7.4</td>\n",
       "      <td>25.1</td>\n",
       "      <td>0.0</td>\n",
       "      <td>NaN</td>\n",
       "      <td>NaN</td>\n",
       "      <td>44.0</td>\n",
       "      <td>4.0</td>\n",
       "      <td>22.0</td>\n",
       "      <td>44.0</td>\n",
       "      <td>25.0</td>\n",
       "      <td>1010.6</td>\n",
       "      <td>1007.8</td>\n",
       "      <td>NaN</td>\n",
       "      <td>NaN</td>\n",
       "      <td>17.2</td>\n",
       "      <td>24.3</td>\n",
       "      <td>0.0</td>\n",
       "      <td>No</td>\n",
       "    </tr>\n",
       "    <tr>\n",
       "      <th>2</th>\n",
       "      <td>12.9</td>\n",
       "      <td>25.7</td>\n",
       "      <td>0.0</td>\n",
       "      <td>NaN</td>\n",
       "      <td>NaN</td>\n",
       "      <td>46.0</td>\n",
       "      <td>19.0</td>\n",
       "      <td>26.0</td>\n",
       "      <td>38.0</td>\n",
       "      <td>30.0</td>\n",
       "      <td>1007.6</td>\n",
       "      <td>1008.7</td>\n",
       "      <td>NaN</td>\n",
       "      <td>2.0</td>\n",
       "      <td>21.0</td>\n",
       "      <td>23.2</td>\n",
       "      <td>0.0</td>\n",
       "      <td>No</td>\n",
       "    </tr>\n",
       "    <tr>\n",
       "      <th>3</th>\n",
       "      <td>9.2</td>\n",
       "      <td>28.0</td>\n",
       "      <td>0.0</td>\n",
       "      <td>NaN</td>\n",
       "      <td>NaN</td>\n",
       "      <td>24.0</td>\n",
       "      <td>11.0</td>\n",
       "      <td>9.0</td>\n",
       "      <td>45.0</td>\n",
       "      <td>16.0</td>\n",
       "      <td>1017.6</td>\n",
       "      <td>1012.8</td>\n",
       "      <td>NaN</td>\n",
       "      <td>NaN</td>\n",
       "      <td>18.1</td>\n",
       "      <td>26.5</td>\n",
       "      <td>1.0</td>\n",
       "      <td>No</td>\n",
       "    </tr>\n",
       "    <tr>\n",
       "      <th>4</th>\n",
       "      <td>17.5</td>\n",
       "      <td>32.3</td>\n",
       "      <td>1.0</td>\n",
       "      <td>NaN</td>\n",
       "      <td>NaN</td>\n",
       "      <td>41.0</td>\n",
       "      <td>7.0</td>\n",
       "      <td>20.0</td>\n",
       "      <td>82.0</td>\n",
       "      <td>33.0</td>\n",
       "      <td>1010.8</td>\n",
       "      <td>1006.0</td>\n",
       "      <td>7.0</td>\n",
       "      <td>8.0</td>\n",
       "      <td>17.8</td>\n",
       "      <td>29.7</td>\n",
       "      <td>0.2</td>\n",
       "      <td>No</td>\n",
       "    </tr>\n",
       "  </tbody>\n",
       "</table>\n",
       "</div>"
      ],
      "text/plain": [
       "   MinTemp  MaxTemp  Rainfall  Evaporation  Sunshine  WindGustSpeed  \\\n",
       "0     13.4     22.9       0.6          NaN       NaN           44.0   \n",
       "1      7.4     25.1       0.0          NaN       NaN           44.0   \n",
       "2     12.9     25.7       0.0          NaN       NaN           46.0   \n",
       "3      9.2     28.0       0.0          NaN       NaN           24.0   \n",
       "4     17.5     32.3       1.0          NaN       NaN           41.0   \n",
       "\n",
       "   WindSpeed9am  WindSpeed3pm  Humidity9am  Humidity3pm  Pressure9am  \\\n",
       "0          20.0          24.0         71.0         22.0       1007.7   \n",
       "1           4.0          22.0         44.0         25.0       1010.6   \n",
       "2          19.0          26.0         38.0         30.0       1007.6   \n",
       "3          11.0           9.0         45.0         16.0       1017.6   \n",
       "4           7.0          20.0         82.0         33.0       1010.8   \n",
       "\n",
       "   Pressure3pm  Cloud9am  Cloud3pm  Temp9am  Temp3pm  RISK_MM RainTomorrow  \n",
       "0       1007.1       8.0       NaN     16.9     21.8      0.0           No  \n",
       "1       1007.8       NaN       NaN     17.2     24.3      0.0           No  \n",
       "2       1008.7       NaN       2.0     21.0     23.2      0.0           No  \n",
       "3       1012.8       NaN       NaN     18.1     26.5      1.0           No  \n",
       "4       1006.0       7.0       8.0     17.8     29.7      0.2           No  "
      ]
     },
     "execution_count": 5,
     "metadata": {},
     "output_type": "execute_result"
    }
   ],
   "source": [
    "dt=df.drop(['Date','Location','WindGustDir','WindDir9am','WindDir3pm','RainToday'],axis=1)\n",
    "dt.head()"
   ]
  },
  {
   "cell_type": "code",
   "execution_count": 6,
   "metadata": {},
   "outputs": [
    {
     "data": {
      "text/plain": [
       "No     110316\n",
       "Yes     31877\n",
       "Name: RainTomorrow, dtype: int64"
      ]
     },
     "execution_count": 6,
     "metadata": {},
     "output_type": "execute_result"
    }
   ],
   "source": [
    "dt['RainTomorrow'].value_counts()"
   ]
  },
  {
   "cell_type": "code",
   "execution_count": 7,
   "metadata": {},
   "outputs": [
    {
     "data": {
      "text/plain": [
       "Index(['MinTemp', 'MaxTemp', 'Rainfall', 'Evaporation', 'Sunshine',\n",
       "       'WindGustSpeed', 'WindSpeed9am', 'WindSpeed3pm', 'Humidity9am',\n",
       "       'Humidity3pm', 'Pressure9am', 'Pressure3pm', 'Cloud9am', 'Cloud3pm',\n",
       "       'Temp9am', 'Temp3pm', 'RISK_MM', 'RainTomorrow_No', 'RainTomorrow_Yes'],\n",
       "      dtype='object')"
      ]
     },
     "execution_count": 7,
     "metadata": {},
     "output_type": "execute_result"
    }
   ],
   "source": [
    "df_rain=pd.get_dummies(dt)\n",
    "df_rain.columns"
   ]
  },
  {
   "cell_type": "code",
   "execution_count": 8,
   "metadata": {},
   "outputs": [
    {
     "data": {
      "text/html": [
       "<div>\n",
       "<style scoped>\n",
       "    .dataframe tbody tr th:only-of-type {\n",
       "        vertical-align: middle;\n",
       "    }\n",
       "\n",
       "    .dataframe tbody tr th {\n",
       "        vertical-align: top;\n",
       "    }\n",
       "\n",
       "    .dataframe thead th {\n",
       "        text-align: right;\n",
       "    }\n",
       "</style>\n",
       "<table border=\"1\" class=\"dataframe\">\n",
       "  <thead>\n",
       "    <tr style=\"text-align: right;\">\n",
       "      <th></th>\n",
       "      <th>MinTemp</th>\n",
       "      <th>MaxTemp</th>\n",
       "      <th>Rainfall</th>\n",
       "      <th>Evaporation</th>\n",
       "      <th>Sunshine</th>\n",
       "      <th>WindGustSpeed</th>\n",
       "      <th>WindSpeed9am</th>\n",
       "      <th>WindSpeed3pm</th>\n",
       "      <th>Humidity9am</th>\n",
       "      <th>Humidity3pm</th>\n",
       "      <th>Pressure9am</th>\n",
       "      <th>Pressure3pm</th>\n",
       "      <th>Cloud9am</th>\n",
       "      <th>Cloud3pm</th>\n",
       "      <th>Temp9am</th>\n",
       "      <th>Temp3pm</th>\n",
       "      <th>RISK_MM</th>\n",
       "      <th>RainTomorrow_No</th>\n",
       "      <th>RainTomorrow_Yes</th>\n",
       "    </tr>\n",
       "  </thead>\n",
       "  <tbody>\n",
       "    <tr>\n",
       "      <th>0</th>\n",
       "      <td>13.4</td>\n",
       "      <td>22.9</td>\n",
       "      <td>0.6</td>\n",
       "      <td>NaN</td>\n",
       "      <td>NaN</td>\n",
       "      <td>44.0</td>\n",
       "      <td>20.0</td>\n",
       "      <td>24.0</td>\n",
       "      <td>71.0</td>\n",
       "      <td>22.0</td>\n",
       "      <td>1007.7</td>\n",
       "      <td>1007.1</td>\n",
       "      <td>8.0</td>\n",
       "      <td>NaN</td>\n",
       "      <td>16.9</td>\n",
       "      <td>21.8</td>\n",
       "      <td>0.0</td>\n",
       "      <td>1</td>\n",
       "      <td>0</td>\n",
       "    </tr>\n",
       "    <tr>\n",
       "      <th>1</th>\n",
       "      <td>7.4</td>\n",
       "      <td>25.1</td>\n",
       "      <td>0.0</td>\n",
       "      <td>NaN</td>\n",
       "      <td>NaN</td>\n",
       "      <td>44.0</td>\n",
       "      <td>4.0</td>\n",
       "      <td>22.0</td>\n",
       "      <td>44.0</td>\n",
       "      <td>25.0</td>\n",
       "      <td>1010.6</td>\n",
       "      <td>1007.8</td>\n",
       "      <td>NaN</td>\n",
       "      <td>NaN</td>\n",
       "      <td>17.2</td>\n",
       "      <td>24.3</td>\n",
       "      <td>0.0</td>\n",
       "      <td>1</td>\n",
       "      <td>0</td>\n",
       "    </tr>\n",
       "    <tr>\n",
       "      <th>2</th>\n",
       "      <td>12.9</td>\n",
       "      <td>25.7</td>\n",
       "      <td>0.0</td>\n",
       "      <td>NaN</td>\n",
       "      <td>NaN</td>\n",
       "      <td>46.0</td>\n",
       "      <td>19.0</td>\n",
       "      <td>26.0</td>\n",
       "      <td>38.0</td>\n",
       "      <td>30.0</td>\n",
       "      <td>1007.6</td>\n",
       "      <td>1008.7</td>\n",
       "      <td>NaN</td>\n",
       "      <td>2.0</td>\n",
       "      <td>21.0</td>\n",
       "      <td>23.2</td>\n",
       "      <td>0.0</td>\n",
       "      <td>1</td>\n",
       "      <td>0</td>\n",
       "    </tr>\n",
       "    <tr>\n",
       "      <th>3</th>\n",
       "      <td>9.2</td>\n",
       "      <td>28.0</td>\n",
       "      <td>0.0</td>\n",
       "      <td>NaN</td>\n",
       "      <td>NaN</td>\n",
       "      <td>24.0</td>\n",
       "      <td>11.0</td>\n",
       "      <td>9.0</td>\n",
       "      <td>45.0</td>\n",
       "      <td>16.0</td>\n",
       "      <td>1017.6</td>\n",
       "      <td>1012.8</td>\n",
       "      <td>NaN</td>\n",
       "      <td>NaN</td>\n",
       "      <td>18.1</td>\n",
       "      <td>26.5</td>\n",
       "      <td>1.0</td>\n",
       "      <td>1</td>\n",
       "      <td>0</td>\n",
       "    </tr>\n",
       "    <tr>\n",
       "      <th>4</th>\n",
       "      <td>17.5</td>\n",
       "      <td>32.3</td>\n",
       "      <td>1.0</td>\n",
       "      <td>NaN</td>\n",
       "      <td>NaN</td>\n",
       "      <td>41.0</td>\n",
       "      <td>7.0</td>\n",
       "      <td>20.0</td>\n",
       "      <td>82.0</td>\n",
       "      <td>33.0</td>\n",
       "      <td>1010.8</td>\n",
       "      <td>1006.0</td>\n",
       "      <td>7.0</td>\n",
       "      <td>8.0</td>\n",
       "      <td>17.8</td>\n",
       "      <td>29.7</td>\n",
       "      <td>0.2</td>\n",
       "      <td>1</td>\n",
       "      <td>0</td>\n",
       "    </tr>\n",
       "  </tbody>\n",
       "</table>\n",
       "</div>"
      ],
      "text/plain": [
       "   MinTemp  MaxTemp  Rainfall  Evaporation  Sunshine  WindGustSpeed  \\\n",
       "0     13.4     22.9       0.6          NaN       NaN           44.0   \n",
       "1      7.4     25.1       0.0          NaN       NaN           44.0   \n",
       "2     12.9     25.7       0.0          NaN       NaN           46.0   \n",
       "3      9.2     28.0       0.0          NaN       NaN           24.0   \n",
       "4     17.5     32.3       1.0          NaN       NaN           41.0   \n",
       "\n",
       "   WindSpeed9am  WindSpeed3pm  Humidity9am  Humidity3pm  Pressure9am  \\\n",
       "0          20.0          24.0         71.0         22.0       1007.7   \n",
       "1           4.0          22.0         44.0         25.0       1010.6   \n",
       "2          19.0          26.0         38.0         30.0       1007.6   \n",
       "3          11.0           9.0         45.0         16.0       1017.6   \n",
       "4           7.0          20.0         82.0         33.0       1010.8   \n",
       "\n",
       "   Pressure3pm  Cloud9am  Cloud3pm  Temp9am  Temp3pm  RISK_MM  \\\n",
       "0       1007.1       8.0       NaN     16.9     21.8      0.0   \n",
       "1       1007.8       NaN       NaN     17.2     24.3      0.0   \n",
       "2       1008.7       NaN       2.0     21.0     23.2      0.0   \n",
       "3       1012.8       NaN       NaN     18.1     26.5      1.0   \n",
       "4       1006.0       7.0       8.0     17.8     29.7      0.2   \n",
       "\n",
       "   RainTomorrow_No  RainTomorrow_Yes  \n",
       "0                1                 0  \n",
       "1                1                 0  \n",
       "2                1                 0  \n",
       "3                1                 0  \n",
       "4                1                 0  "
      ]
     },
     "execution_count": 8,
     "metadata": {},
     "output_type": "execute_result"
    }
   ],
   "source": [
    "df_rain.head()"
   ]
  },
  {
   "cell_type": "code",
   "execution_count": 9,
   "metadata": {},
   "outputs": [
    {
     "data": {
      "text/plain": [
       "0    110316\n",
       "1     31877\n",
       "Name: RainTomorrow_Yes, dtype: int64"
      ]
     },
     "execution_count": 9,
     "metadata": {},
     "output_type": "execute_result"
    }
   ],
   "source": [
    "df_rain['RainTomorrow_Yes'].value_counts()"
   ]
  },
  {
   "cell_type": "code",
   "execution_count": 10,
   "metadata": {},
   "outputs": [
    {
     "data": {
      "text/html": [
       "<div>\n",
       "<style scoped>\n",
       "    .dataframe tbody tr th:only-of-type {\n",
       "        vertical-align: middle;\n",
       "    }\n",
       "\n",
       "    .dataframe tbody tr th {\n",
       "        vertical-align: top;\n",
       "    }\n",
       "\n",
       "    .dataframe thead th {\n",
       "        text-align: right;\n",
       "    }\n",
       "</style>\n",
       "<table border=\"1\" class=\"dataframe\">\n",
       "  <thead>\n",
       "    <tr style=\"text-align: right;\">\n",
       "      <th></th>\n",
       "      <th>MinTemp</th>\n",
       "      <th>MaxTemp</th>\n",
       "      <th>Rainfall</th>\n",
       "      <th>Evaporation</th>\n",
       "      <th>Sunshine</th>\n",
       "      <th>WindGustSpeed</th>\n",
       "      <th>WindSpeed9am</th>\n",
       "      <th>WindSpeed3pm</th>\n",
       "      <th>Humidity9am</th>\n",
       "      <th>Humidity3pm</th>\n",
       "      <th>Pressure9am</th>\n",
       "      <th>Pressure3pm</th>\n",
       "      <th>Cloud9am</th>\n",
       "      <th>Cloud3pm</th>\n",
       "      <th>Temp9am</th>\n",
       "      <th>Temp3pm</th>\n",
       "      <th>RISK_MM</th>\n",
       "      <th>RainTomorrow_No</th>\n",
       "      <th>RainTomorrow_Yes</th>\n",
       "    </tr>\n",
       "  </thead>\n",
       "  <tbody>\n",
       "    <tr>\n",
       "      <th>0</th>\n",
       "      <td>13.4</td>\n",
       "      <td>22.9</td>\n",
       "      <td>0.6</td>\n",
       "      <td>5.469824</td>\n",
       "      <td>7.624853</td>\n",
       "      <td>44.0</td>\n",
       "      <td>20.0</td>\n",
       "      <td>24.0</td>\n",
       "      <td>71.0</td>\n",
       "      <td>22.0</td>\n",
       "      <td>1007.7</td>\n",
       "      <td>1007.1</td>\n",
       "      <td>8.000000</td>\n",
       "      <td>4.503167</td>\n",
       "      <td>16.9</td>\n",
       "      <td>21.8</td>\n",
       "      <td>0.0</td>\n",
       "      <td>1</td>\n",
       "      <td>0</td>\n",
       "    </tr>\n",
       "    <tr>\n",
       "      <th>1</th>\n",
       "      <td>7.4</td>\n",
       "      <td>25.1</td>\n",
       "      <td>0.0</td>\n",
       "      <td>5.469824</td>\n",
       "      <td>7.624853</td>\n",
       "      <td>44.0</td>\n",
       "      <td>4.0</td>\n",
       "      <td>22.0</td>\n",
       "      <td>44.0</td>\n",
       "      <td>25.0</td>\n",
       "      <td>1010.6</td>\n",
       "      <td>1007.8</td>\n",
       "      <td>4.437189</td>\n",
       "      <td>4.503167</td>\n",
       "      <td>17.2</td>\n",
       "      <td>24.3</td>\n",
       "      <td>0.0</td>\n",
       "      <td>1</td>\n",
       "      <td>0</td>\n",
       "    </tr>\n",
       "    <tr>\n",
       "      <th>2</th>\n",
       "      <td>12.9</td>\n",
       "      <td>25.7</td>\n",
       "      <td>0.0</td>\n",
       "      <td>5.469824</td>\n",
       "      <td>7.624853</td>\n",
       "      <td>46.0</td>\n",
       "      <td>19.0</td>\n",
       "      <td>26.0</td>\n",
       "      <td>38.0</td>\n",
       "      <td>30.0</td>\n",
       "      <td>1007.6</td>\n",
       "      <td>1008.7</td>\n",
       "      <td>4.437189</td>\n",
       "      <td>2.000000</td>\n",
       "      <td>21.0</td>\n",
       "      <td>23.2</td>\n",
       "      <td>0.0</td>\n",
       "      <td>1</td>\n",
       "      <td>0</td>\n",
       "    </tr>\n",
       "    <tr>\n",
       "      <th>3</th>\n",
       "      <td>9.2</td>\n",
       "      <td>28.0</td>\n",
       "      <td>0.0</td>\n",
       "      <td>5.469824</td>\n",
       "      <td>7.624853</td>\n",
       "      <td>24.0</td>\n",
       "      <td>11.0</td>\n",
       "      <td>9.0</td>\n",
       "      <td>45.0</td>\n",
       "      <td>16.0</td>\n",
       "      <td>1017.6</td>\n",
       "      <td>1012.8</td>\n",
       "      <td>4.437189</td>\n",
       "      <td>4.503167</td>\n",
       "      <td>18.1</td>\n",
       "      <td>26.5</td>\n",
       "      <td>1.0</td>\n",
       "      <td>1</td>\n",
       "      <td>0</td>\n",
       "    </tr>\n",
       "    <tr>\n",
       "      <th>4</th>\n",
       "      <td>17.5</td>\n",
       "      <td>32.3</td>\n",
       "      <td>1.0</td>\n",
       "      <td>5.469824</td>\n",
       "      <td>7.624853</td>\n",
       "      <td>41.0</td>\n",
       "      <td>7.0</td>\n",
       "      <td>20.0</td>\n",
       "      <td>82.0</td>\n",
       "      <td>33.0</td>\n",
       "      <td>1010.8</td>\n",
       "      <td>1006.0</td>\n",
       "      <td>7.000000</td>\n",
       "      <td>8.000000</td>\n",
       "      <td>17.8</td>\n",
       "      <td>29.7</td>\n",
       "      <td>0.2</td>\n",
       "      <td>1</td>\n",
       "      <td>0</td>\n",
       "    </tr>\n",
       "    <tr>\n",
       "      <th>...</th>\n",
       "      <td>...</td>\n",
       "      <td>...</td>\n",
       "      <td>...</td>\n",
       "      <td>...</td>\n",
       "      <td>...</td>\n",
       "      <td>...</td>\n",
       "      <td>...</td>\n",
       "      <td>...</td>\n",
       "      <td>...</td>\n",
       "      <td>...</td>\n",
       "      <td>...</td>\n",
       "      <td>...</td>\n",
       "      <td>...</td>\n",
       "      <td>...</td>\n",
       "      <td>...</td>\n",
       "      <td>...</td>\n",
       "      <td>...</td>\n",
       "      <td>...</td>\n",
       "      <td>...</td>\n",
       "    </tr>\n",
       "    <tr>\n",
       "      <th>142188</th>\n",
       "      <td>3.5</td>\n",
       "      <td>21.8</td>\n",
       "      <td>0.0</td>\n",
       "      <td>5.469824</td>\n",
       "      <td>7.624853</td>\n",
       "      <td>31.0</td>\n",
       "      <td>15.0</td>\n",
       "      <td>13.0</td>\n",
       "      <td>59.0</td>\n",
       "      <td>27.0</td>\n",
       "      <td>1024.7</td>\n",
       "      <td>1021.2</td>\n",
       "      <td>4.437189</td>\n",
       "      <td>4.503167</td>\n",
       "      <td>9.4</td>\n",
       "      <td>20.9</td>\n",
       "      <td>0.0</td>\n",
       "      <td>1</td>\n",
       "      <td>0</td>\n",
       "    </tr>\n",
       "    <tr>\n",
       "      <th>142189</th>\n",
       "      <td>2.8</td>\n",
       "      <td>23.4</td>\n",
       "      <td>0.0</td>\n",
       "      <td>5.469824</td>\n",
       "      <td>7.624853</td>\n",
       "      <td>31.0</td>\n",
       "      <td>13.0</td>\n",
       "      <td>11.0</td>\n",
       "      <td>51.0</td>\n",
       "      <td>24.0</td>\n",
       "      <td>1024.6</td>\n",
       "      <td>1020.3</td>\n",
       "      <td>4.437189</td>\n",
       "      <td>4.503167</td>\n",
       "      <td>10.1</td>\n",
       "      <td>22.4</td>\n",
       "      <td>0.0</td>\n",
       "      <td>1</td>\n",
       "      <td>0</td>\n",
       "    </tr>\n",
       "    <tr>\n",
       "      <th>142190</th>\n",
       "      <td>3.6</td>\n",
       "      <td>25.3</td>\n",
       "      <td>0.0</td>\n",
       "      <td>5.469824</td>\n",
       "      <td>7.624853</td>\n",
       "      <td>22.0</td>\n",
       "      <td>13.0</td>\n",
       "      <td>9.0</td>\n",
       "      <td>56.0</td>\n",
       "      <td>21.0</td>\n",
       "      <td>1023.5</td>\n",
       "      <td>1019.1</td>\n",
       "      <td>4.437189</td>\n",
       "      <td>4.503167</td>\n",
       "      <td>10.9</td>\n",
       "      <td>24.5</td>\n",
       "      <td>0.0</td>\n",
       "      <td>1</td>\n",
       "      <td>0</td>\n",
       "    </tr>\n",
       "    <tr>\n",
       "      <th>142191</th>\n",
       "      <td>5.4</td>\n",
       "      <td>26.9</td>\n",
       "      <td>0.0</td>\n",
       "      <td>5.469824</td>\n",
       "      <td>7.624853</td>\n",
       "      <td>37.0</td>\n",
       "      <td>9.0</td>\n",
       "      <td>9.0</td>\n",
       "      <td>53.0</td>\n",
       "      <td>24.0</td>\n",
       "      <td>1021.0</td>\n",
       "      <td>1016.8</td>\n",
       "      <td>4.437189</td>\n",
       "      <td>4.503167</td>\n",
       "      <td>12.5</td>\n",
       "      <td>26.1</td>\n",
       "      <td>0.0</td>\n",
       "      <td>1</td>\n",
       "      <td>0</td>\n",
       "    </tr>\n",
       "    <tr>\n",
       "      <th>142192</th>\n",
       "      <td>7.8</td>\n",
       "      <td>27.0</td>\n",
       "      <td>0.0</td>\n",
       "      <td>5.469824</td>\n",
       "      <td>7.624853</td>\n",
       "      <td>28.0</td>\n",
       "      <td>13.0</td>\n",
       "      <td>7.0</td>\n",
       "      <td>51.0</td>\n",
       "      <td>24.0</td>\n",
       "      <td>1019.4</td>\n",
       "      <td>1016.5</td>\n",
       "      <td>3.000000</td>\n",
       "      <td>2.000000</td>\n",
       "      <td>15.1</td>\n",
       "      <td>26.0</td>\n",
       "      <td>0.0</td>\n",
       "      <td>1</td>\n",
       "      <td>0</td>\n",
       "    </tr>\n",
       "  </tbody>\n",
       "</table>\n",
       "<p>142193 rows × 19 columns</p>\n",
       "</div>"
      ],
      "text/plain": [
       "        MinTemp  MaxTemp  Rainfall  Evaporation  Sunshine  WindGustSpeed  \\\n",
       "0          13.4     22.9       0.6     5.469824  7.624853           44.0   \n",
       "1           7.4     25.1       0.0     5.469824  7.624853           44.0   \n",
       "2          12.9     25.7       0.0     5.469824  7.624853           46.0   \n",
       "3           9.2     28.0       0.0     5.469824  7.624853           24.0   \n",
       "4          17.5     32.3       1.0     5.469824  7.624853           41.0   \n",
       "...         ...      ...       ...          ...       ...            ...   \n",
       "142188      3.5     21.8       0.0     5.469824  7.624853           31.0   \n",
       "142189      2.8     23.4       0.0     5.469824  7.624853           31.0   \n",
       "142190      3.6     25.3       0.0     5.469824  7.624853           22.0   \n",
       "142191      5.4     26.9       0.0     5.469824  7.624853           37.0   \n",
       "142192      7.8     27.0       0.0     5.469824  7.624853           28.0   \n",
       "\n",
       "        WindSpeed9am  WindSpeed3pm  Humidity9am  Humidity3pm  Pressure9am  \\\n",
       "0               20.0          24.0         71.0         22.0       1007.7   \n",
       "1                4.0          22.0         44.0         25.0       1010.6   \n",
       "2               19.0          26.0         38.0         30.0       1007.6   \n",
       "3               11.0           9.0         45.0         16.0       1017.6   \n",
       "4                7.0          20.0         82.0         33.0       1010.8   \n",
       "...              ...           ...          ...          ...          ...   \n",
       "142188          15.0          13.0         59.0         27.0       1024.7   \n",
       "142189          13.0          11.0         51.0         24.0       1024.6   \n",
       "142190          13.0           9.0         56.0         21.0       1023.5   \n",
       "142191           9.0           9.0         53.0         24.0       1021.0   \n",
       "142192          13.0           7.0         51.0         24.0       1019.4   \n",
       "\n",
       "        Pressure3pm  Cloud9am  Cloud3pm  Temp9am  Temp3pm  RISK_MM  \\\n",
       "0            1007.1  8.000000  4.503167     16.9     21.8      0.0   \n",
       "1            1007.8  4.437189  4.503167     17.2     24.3      0.0   \n",
       "2            1008.7  4.437189  2.000000     21.0     23.2      0.0   \n",
       "3            1012.8  4.437189  4.503167     18.1     26.5      1.0   \n",
       "4            1006.0  7.000000  8.000000     17.8     29.7      0.2   \n",
       "...             ...       ...       ...      ...      ...      ...   \n",
       "142188       1021.2  4.437189  4.503167      9.4     20.9      0.0   \n",
       "142189       1020.3  4.437189  4.503167     10.1     22.4      0.0   \n",
       "142190       1019.1  4.437189  4.503167     10.9     24.5      0.0   \n",
       "142191       1016.8  4.437189  4.503167     12.5     26.1      0.0   \n",
       "142192       1016.5  3.000000  2.000000     15.1     26.0      0.0   \n",
       "\n",
       "        RainTomorrow_No  RainTomorrow_Yes  \n",
       "0                     1                 0  \n",
       "1                     1                 0  \n",
       "2                     1                 0  \n",
       "3                     1                 0  \n",
       "4                     1                 0  \n",
       "...                 ...               ...  \n",
       "142188                1                 0  \n",
       "142189                1                 0  \n",
       "142190                1                 0  \n",
       "142191                1                 0  \n",
       "142192                1                 0  \n",
       "\n",
       "[142193 rows x 19 columns]"
      ]
     },
     "execution_count": 10,
     "metadata": {},
     "output_type": "execute_result"
    }
   ],
   "source": [
    "data=df_rain.fillna(df_rain.mean())\n",
    "data"
   ]
  },
  {
   "cell_type": "code",
   "execution_count": 11,
   "metadata": {},
   "outputs": [
    {
     "data": {
      "text/html": [
       "<div>\n",
       "<style scoped>\n",
       "    .dataframe tbody tr th:only-of-type {\n",
       "        vertical-align: middle;\n",
       "    }\n",
       "\n",
       "    .dataframe tbody tr th {\n",
       "        vertical-align: top;\n",
       "    }\n",
       "\n",
       "    .dataframe thead th {\n",
       "        text-align: right;\n",
       "    }\n",
       "</style>\n",
       "<table border=\"1\" class=\"dataframe\">\n",
       "  <thead>\n",
       "    <tr style=\"text-align: right;\">\n",
       "      <th></th>\n",
       "      <th>MinTemp</th>\n",
       "      <th>MaxTemp</th>\n",
       "      <th>Rainfall</th>\n",
       "      <th>Evaporation</th>\n",
       "      <th>Sunshine</th>\n",
       "      <th>WindGustSpeed</th>\n",
       "      <th>WindSpeed9am</th>\n",
       "      <th>WindSpeed3pm</th>\n",
       "      <th>Humidity9am</th>\n",
       "      <th>Humidity3pm</th>\n",
       "      <th>Pressure9am</th>\n",
       "      <th>Pressure3pm</th>\n",
       "      <th>Cloud9am</th>\n",
       "      <th>Cloud3pm</th>\n",
       "      <th>Temp9am</th>\n",
       "      <th>Temp3pm</th>\n",
       "      <th>RISK_MM</th>\n",
       "      <th>RainTomorrow_No</th>\n",
       "      <th>RainTomorrow_Yes</th>\n",
       "    </tr>\n",
       "  </thead>\n",
       "  <tbody>\n",
       "    <tr>\n",
       "      <th>MinTemp</th>\n",
       "      <td>1.000000</td>\n",
       "      <td>0.733919</td>\n",
       "      <td>0.103314</td>\n",
       "      <td>0.353698</td>\n",
       "      <td>0.051907</td>\n",
       "      <td>0.173331</td>\n",
       "      <td>0.174946</td>\n",
       "      <td>0.174187</td>\n",
       "      <td>-0.232372</td>\n",
       "      <td>0.005913</td>\n",
       "      <td>-0.424357</td>\n",
       "      <td>-0.434034</td>\n",
       "      <td>0.061460</td>\n",
       "      <td>0.015902</td>\n",
       "      <td>0.897999</td>\n",
       "      <td>0.699828</td>\n",
       "      <td>0.123928</td>\n",
       "      <td>-0.083717</td>\n",
       "      <td>0.083717</td>\n",
       "    </tr>\n",
       "    <tr>\n",
       "      <th>MaxTemp</th>\n",
       "      <td>0.733919</td>\n",
       "      <td>1.000000</td>\n",
       "      <td>-0.074202</td>\n",
       "      <td>0.442214</td>\n",
       "      <td>0.331505</td>\n",
       "      <td>0.066329</td>\n",
       "      <td>0.014586</td>\n",
       "      <td>0.050381</td>\n",
       "      <td>-0.499777</td>\n",
       "      <td>-0.499725</td>\n",
       "      <td>-0.309093</td>\n",
       "      <td>-0.397422</td>\n",
       "      <td>-0.226776</td>\n",
       "      <td>-0.214469</td>\n",
       "      <td>0.880087</td>\n",
       "      <td>0.969735</td>\n",
       "      <td>-0.044154</td>\n",
       "      <td>0.159087</td>\n",
       "      <td>-0.159087</td>\n",
       "    </tr>\n",
       "    <tr>\n",
       "      <th>Rainfall</th>\n",
       "      <td>0.103314</td>\n",
       "      <td>-0.074202</td>\n",
       "      <td>1.000000</td>\n",
       "      <td>-0.038186</td>\n",
       "      <td>-0.173011</td>\n",
       "      <td>0.127250</td>\n",
       "      <td>0.085977</td>\n",
       "      <td>0.056762</td>\n",
       "      <td>0.221392</td>\n",
       "      <td>0.249609</td>\n",
       "      <td>-0.159676</td>\n",
       "      <td>-0.120366</td>\n",
       "      <td>0.171613</td>\n",
       "      <td>0.145848</td>\n",
       "      <td>0.011384</td>\n",
       "      <td>-0.077553</td>\n",
       "      <td>0.301844</td>\n",
       "      <td>-0.236874</td>\n",
       "      <td>0.236874</td>\n",
       "    </tr>\n",
       "    <tr>\n",
       "      <th>Evaporation</th>\n",
       "      <td>0.353698</td>\n",
       "      <td>0.442214</td>\n",
       "      <td>-0.038186</td>\n",
       "      <td>1.000000</td>\n",
       "      <td>0.290375</td>\n",
       "      <td>0.147371</td>\n",
       "      <td>0.140669</td>\n",
       "      <td>0.094134</td>\n",
       "      <td>-0.377594</td>\n",
       "      <td>-0.289915</td>\n",
       "      <td>-0.211823</td>\n",
       "      <td>-0.231341</td>\n",
       "      <td>-0.152224</td>\n",
       "      <td>-0.147763</td>\n",
       "      <td>0.417323</td>\n",
       "      <td>0.429195</td>\n",
       "      <td>-0.031569</td>\n",
       "      <td>0.089551</td>\n",
       "      <td>-0.089551</td>\n",
       "    </tr>\n",
       "    <tr>\n",
       "      <th>Sunshine</th>\n",
       "      <td>0.051907</td>\n",
       "      <td>0.331505</td>\n",
       "      <td>-0.173011</td>\n",
       "      <td>0.290375</td>\n",
       "      <td>1.000000</td>\n",
       "      <td>-0.022479</td>\n",
       "      <td>0.005685</td>\n",
       "      <td>0.039471</td>\n",
       "      <td>-0.351980</td>\n",
       "      <td>-0.446849</td>\n",
       "      <td>0.030932</td>\n",
       "      <td>-0.015477</td>\n",
       "      <td>-0.537714</td>\n",
       "      <td>-0.559379</td>\n",
       "      <td>0.210174</td>\n",
       "      <td>0.349271</td>\n",
       "      <td>-0.222487</td>\n",
       "      <td>0.327029</td>\n",
       "      <td>-0.327029</td>\n",
       "    </tr>\n",
       "    <tr>\n",
       "      <th>WindGustSpeed</th>\n",
       "      <td>0.173331</td>\n",
       "      <td>0.066329</td>\n",
       "      <td>0.127250</td>\n",
       "      <td>0.147371</td>\n",
       "      <td>-0.022479</td>\n",
       "      <td>1.000000</td>\n",
       "      <td>0.577864</td>\n",
       "      <td>0.658377</td>\n",
       "      <td>-0.209272</td>\n",
       "      <td>-0.025822</td>\n",
       "      <td>-0.426600</td>\n",
       "      <td>-0.384642</td>\n",
       "      <td>0.052281</td>\n",
       "      <td>0.080202</td>\n",
       "      <td>0.146756</td>\n",
       "      <td>0.032274</td>\n",
       "      <td>0.156620</td>\n",
       "      <td>-0.225264</td>\n",
       "      <td>0.225264</td>\n",
       "    </tr>\n",
       "    <tr>\n",
       "      <th>WindSpeed9am</th>\n",
       "      <td>0.174946</td>\n",
       "      <td>0.014586</td>\n",
       "      <td>0.085977</td>\n",
       "      <td>0.140669</td>\n",
       "      <td>0.005685</td>\n",
       "      <td>0.577864</td>\n",
       "      <td>1.000000</td>\n",
       "      <td>0.513079</td>\n",
       "      <td>-0.269027</td>\n",
       "      <td>-0.030991</td>\n",
       "      <td>-0.215178</td>\n",
       "      <td>-0.165050</td>\n",
       "      <td>0.019171</td>\n",
       "      <td>0.041080</td>\n",
       "      <td>0.128769</td>\n",
       "      <td>0.005026</td>\n",
       "      <td>0.068828</td>\n",
       "      <td>-0.090524</td>\n",
       "      <td>0.090524</td>\n",
       "    </tr>\n",
       "    <tr>\n",
       "      <th>WindSpeed3pm</th>\n",
       "      <td>0.174187</td>\n",
       "      <td>0.050381</td>\n",
       "      <td>0.056762</td>\n",
       "      <td>0.094134</td>\n",
       "      <td>0.039471</td>\n",
       "      <td>0.658377</td>\n",
       "      <td>0.513079</td>\n",
       "      <td>1.000000</td>\n",
       "      <td>-0.144270</td>\n",
       "      <td>0.015789</td>\n",
       "      <td>-0.277495</td>\n",
       "      <td>-0.239743</td>\n",
       "      <td>0.041369</td>\n",
       "      <td>0.019803</td>\n",
       "      <td>0.162144</td>\n",
       "      <td>0.028443</td>\n",
       "      <td>0.048554</td>\n",
       "      <td>-0.086909</td>\n",
       "      <td>0.086909</td>\n",
       "    </tr>\n",
       "    <tr>\n",
       "      <th>Humidity9am</th>\n",
       "      <td>-0.232372</td>\n",
       "      <td>-0.499777</td>\n",
       "      <td>0.221392</td>\n",
       "      <td>-0.377594</td>\n",
       "      <td>-0.351980</td>\n",
       "      <td>-0.209272</td>\n",
       "      <td>-0.269027</td>\n",
       "      <td>-0.144270</td>\n",
       "      <td>1.000000</td>\n",
       "      <td>0.659852</td>\n",
       "      <td>0.131601</td>\n",
       "      <td>0.176168</td>\n",
       "      <td>0.354394</td>\n",
       "      <td>0.274613</td>\n",
       "      <td>-0.471137</td>\n",
       "      <td>-0.492430</td>\n",
       "      <td>0.170541</td>\n",
       "      <td>-0.255158</td>\n",
       "      <td>0.255158</td>\n",
       "    </tr>\n",
       "    <tr>\n",
       "      <th>Humidity3pm</th>\n",
       "      <td>0.005913</td>\n",
       "      <td>-0.499725</td>\n",
       "      <td>0.249609</td>\n",
       "      <td>-0.289915</td>\n",
       "      <td>-0.446849</td>\n",
       "      <td>-0.025822</td>\n",
       "      <td>-0.030991</td>\n",
       "      <td>0.015789</td>\n",
       "      <td>0.659852</td>\n",
       "      <td>1.000000</td>\n",
       "      <td>-0.025769</td>\n",
       "      <td>0.048566</td>\n",
       "      <td>0.400006</td>\n",
       "      <td>0.407898</td>\n",
       "      <td>-0.217593</td>\n",
       "      <td>-0.555777</td>\n",
       "      <td>0.306711</td>\n",
       "      <td>-0.439678</td>\n",
       "      <td>0.439678</td>\n",
       "    </tr>\n",
       "    <tr>\n",
       "      <th>Pressure9am</th>\n",
       "      <td>-0.424357</td>\n",
       "      <td>-0.309093</td>\n",
       "      <td>-0.159676</td>\n",
       "      <td>-0.211823</td>\n",
       "      <td>0.030932</td>\n",
       "      <td>-0.426600</td>\n",
       "      <td>-0.215178</td>\n",
       "      <td>-0.277495</td>\n",
       "      <td>0.131601</td>\n",
       "      <td>-0.025769</td>\n",
       "      <td>1.000000</td>\n",
       "      <td>0.959878</td>\n",
       "      <td>-0.102097</td>\n",
       "      <td>-0.114936</td>\n",
       "      <td>-0.397763</td>\n",
       "      <td>-0.266308</td>\n",
       "      <td>-0.156060</td>\n",
       "      <td>0.234027</td>\n",
       "      <td>-0.234027</td>\n",
       "    </tr>\n",
       "    <tr>\n",
       "      <th>Pressure3pm</th>\n",
       "      <td>-0.434034</td>\n",
       "      <td>-0.397422</td>\n",
       "      <td>-0.120366</td>\n",
       "      <td>-0.231341</td>\n",
       "      <td>-0.015477</td>\n",
       "      <td>-0.384642</td>\n",
       "      <td>-0.165050</td>\n",
       "      <td>-0.239743</td>\n",
       "      <td>0.176168</td>\n",
       "      <td>0.048566</td>\n",
       "      <td>0.959878</td>\n",
       "      <td>1.000000</td>\n",
       "      <td>-0.048147</td>\n",
       "      <td>-0.066240</td>\n",
       "      <td>-0.442144</td>\n",
       "      <td>-0.361308</td>\n",
       "      <td>-0.156623</td>\n",
       "      <td>0.214688</td>\n",
       "      <td>-0.214688</td>\n",
       "    </tr>\n",
       "    <tr>\n",
       "      <th>Cloud9am</th>\n",
       "      <td>0.061460</td>\n",
       "      <td>-0.226776</td>\n",
       "      <td>0.171613</td>\n",
       "      <td>-0.152224</td>\n",
       "      <td>-0.537714</td>\n",
       "      <td>0.052281</td>\n",
       "      <td>0.019171</td>\n",
       "      <td>0.041369</td>\n",
       "      <td>0.354394</td>\n",
       "      <td>0.400006</td>\n",
       "      <td>-0.102097</td>\n",
       "      <td>-0.048147</td>\n",
       "      <td>1.000000</td>\n",
       "      <td>0.561183</td>\n",
       "      <td>-0.110096</td>\n",
       "      <td>-0.233144</td>\n",
       "      <td>0.169065</td>\n",
       "      <td>-0.253832</td>\n",
       "      <td>0.253832</td>\n",
       "    </tr>\n",
       "    <tr>\n",
       "      <th>Cloud3pm</th>\n",
       "      <td>0.015902</td>\n",
       "      <td>-0.214469</td>\n",
       "      <td>0.145848</td>\n",
       "      <td>-0.147763</td>\n",
       "      <td>-0.559379</td>\n",
       "      <td>0.080202</td>\n",
       "      <td>0.041080</td>\n",
       "      <td>0.019803</td>\n",
       "      <td>0.274613</td>\n",
       "      <td>0.407898</td>\n",
       "      <td>-0.114936</td>\n",
       "      <td>-0.066240</td>\n",
       "      <td>0.561183</td>\n",
       "      <td>1.000000</td>\n",
       "      <td>-0.099981</td>\n",
       "      <td>-0.248291</td>\n",
       "      <td>0.199635</td>\n",
       "      <td>-0.301841</td>\n",
       "      <td>0.301841</td>\n",
       "    </tr>\n",
       "    <tr>\n",
       "      <th>Temp9am</th>\n",
       "      <td>0.897999</td>\n",
       "      <td>0.880087</td>\n",
       "      <td>0.011384</td>\n",
       "      <td>0.417323</td>\n",
       "      <td>0.210174</td>\n",
       "      <td>0.146756</td>\n",
       "      <td>0.128769</td>\n",
       "      <td>0.162144</td>\n",
       "      <td>-0.471137</td>\n",
       "      <td>-0.217593</td>\n",
       "      <td>-0.397763</td>\n",
       "      <td>-0.442144</td>\n",
       "      <td>-0.110096</td>\n",
       "      <td>-0.099981</td>\n",
       "      <td>1.000000</td>\n",
       "      <td>0.846931</td>\n",
       "      <td>0.050787</td>\n",
       "      <td>0.025582</td>\n",
       "      <td>-0.025582</td>\n",
       "    </tr>\n",
       "    <tr>\n",
       "      <th>Temp3pm</th>\n",
       "      <td>0.699828</td>\n",
       "      <td>0.969735</td>\n",
       "      <td>-0.077553</td>\n",
       "      <td>0.429195</td>\n",
       "      <td>0.349271</td>\n",
       "      <td>0.032274</td>\n",
       "      <td>0.005026</td>\n",
       "      <td>0.028443</td>\n",
       "      <td>-0.492430</td>\n",
       "      <td>-0.555777</td>\n",
       "      <td>-0.266308</td>\n",
       "      <td>-0.361308</td>\n",
       "      <td>-0.233144</td>\n",
       "      <td>-0.248291</td>\n",
       "      <td>0.846931</td>\n",
       "      <td>1.000000</td>\n",
       "      <td>-0.065589</td>\n",
       "      <td>0.190286</td>\n",
       "      <td>-0.190286</td>\n",
       "    </tr>\n",
       "    <tr>\n",
       "      <th>RISK_MM</th>\n",
       "      <td>0.123928</td>\n",
       "      <td>-0.044154</td>\n",
       "      <td>0.301844</td>\n",
       "      <td>-0.031569</td>\n",
       "      <td>-0.222487</td>\n",
       "      <td>0.156620</td>\n",
       "      <td>0.068828</td>\n",
       "      <td>0.048554</td>\n",
       "      <td>0.170541</td>\n",
       "      <td>0.306711</td>\n",
       "      <td>-0.156060</td>\n",
       "      <td>-0.156623</td>\n",
       "      <td>0.169065</td>\n",
       "      <td>0.199635</td>\n",
       "      <td>0.050787</td>\n",
       "      <td>-0.065589</td>\n",
       "      <td>1.000000</td>\n",
       "      <td>-0.501485</td>\n",
       "      <td>0.501485</td>\n",
       "    </tr>\n",
       "    <tr>\n",
       "      <th>RainTomorrow_No</th>\n",
       "      <td>-0.083717</td>\n",
       "      <td>0.159087</td>\n",
       "      <td>-0.236874</td>\n",
       "      <td>0.089551</td>\n",
       "      <td>0.327029</td>\n",
       "      <td>-0.225264</td>\n",
       "      <td>-0.090524</td>\n",
       "      <td>-0.086909</td>\n",
       "      <td>-0.255158</td>\n",
       "      <td>-0.439678</td>\n",
       "      <td>0.234027</td>\n",
       "      <td>0.214688</td>\n",
       "      <td>-0.253832</td>\n",
       "      <td>-0.301841</td>\n",
       "      <td>0.025582</td>\n",
       "      <td>0.190286</td>\n",
       "      <td>-0.501485</td>\n",
       "      <td>1.000000</td>\n",
       "      <td>-1.000000</td>\n",
       "    </tr>\n",
       "    <tr>\n",
       "      <th>RainTomorrow_Yes</th>\n",
       "      <td>0.083717</td>\n",
       "      <td>-0.159087</td>\n",
       "      <td>0.236874</td>\n",
       "      <td>-0.089551</td>\n",
       "      <td>-0.327029</td>\n",
       "      <td>0.225264</td>\n",
       "      <td>0.090524</td>\n",
       "      <td>0.086909</td>\n",
       "      <td>0.255158</td>\n",
       "      <td>0.439678</td>\n",
       "      <td>-0.234027</td>\n",
       "      <td>-0.214688</td>\n",
       "      <td>0.253832</td>\n",
       "      <td>0.301841</td>\n",
       "      <td>-0.025582</td>\n",
       "      <td>-0.190286</td>\n",
       "      <td>0.501485</td>\n",
       "      <td>-1.000000</td>\n",
       "      <td>1.000000</td>\n",
       "    </tr>\n",
       "  </tbody>\n",
       "</table>\n",
       "</div>"
      ],
      "text/plain": [
       "                   MinTemp   MaxTemp  Rainfall  Evaporation  Sunshine  \\\n",
       "MinTemp           1.000000  0.733919  0.103314     0.353698  0.051907   \n",
       "MaxTemp           0.733919  1.000000 -0.074202     0.442214  0.331505   \n",
       "Rainfall          0.103314 -0.074202  1.000000    -0.038186 -0.173011   \n",
       "Evaporation       0.353698  0.442214 -0.038186     1.000000  0.290375   \n",
       "Sunshine          0.051907  0.331505 -0.173011     0.290375  1.000000   \n",
       "WindGustSpeed     0.173331  0.066329  0.127250     0.147371 -0.022479   \n",
       "WindSpeed9am      0.174946  0.014586  0.085977     0.140669  0.005685   \n",
       "WindSpeed3pm      0.174187  0.050381  0.056762     0.094134  0.039471   \n",
       "Humidity9am      -0.232372 -0.499777  0.221392    -0.377594 -0.351980   \n",
       "Humidity3pm       0.005913 -0.499725  0.249609    -0.289915 -0.446849   \n",
       "Pressure9am      -0.424357 -0.309093 -0.159676    -0.211823  0.030932   \n",
       "Pressure3pm      -0.434034 -0.397422 -0.120366    -0.231341 -0.015477   \n",
       "Cloud9am          0.061460 -0.226776  0.171613    -0.152224 -0.537714   \n",
       "Cloud3pm          0.015902 -0.214469  0.145848    -0.147763 -0.559379   \n",
       "Temp9am           0.897999  0.880087  0.011384     0.417323  0.210174   \n",
       "Temp3pm           0.699828  0.969735 -0.077553     0.429195  0.349271   \n",
       "RISK_MM           0.123928 -0.044154  0.301844    -0.031569 -0.222487   \n",
       "RainTomorrow_No  -0.083717  0.159087 -0.236874     0.089551  0.327029   \n",
       "RainTomorrow_Yes  0.083717 -0.159087  0.236874    -0.089551 -0.327029   \n",
       "\n",
       "                  WindGustSpeed  WindSpeed9am  WindSpeed3pm  Humidity9am  \\\n",
       "MinTemp                0.173331      0.174946      0.174187    -0.232372   \n",
       "MaxTemp                0.066329      0.014586      0.050381    -0.499777   \n",
       "Rainfall               0.127250      0.085977      0.056762     0.221392   \n",
       "Evaporation            0.147371      0.140669      0.094134    -0.377594   \n",
       "Sunshine              -0.022479      0.005685      0.039471    -0.351980   \n",
       "WindGustSpeed          1.000000      0.577864      0.658377    -0.209272   \n",
       "WindSpeed9am           0.577864      1.000000      0.513079    -0.269027   \n",
       "WindSpeed3pm           0.658377      0.513079      1.000000    -0.144270   \n",
       "Humidity9am           -0.209272     -0.269027     -0.144270     1.000000   \n",
       "Humidity3pm           -0.025822     -0.030991      0.015789     0.659852   \n",
       "Pressure9am           -0.426600     -0.215178     -0.277495     0.131601   \n",
       "Pressure3pm           -0.384642     -0.165050     -0.239743     0.176168   \n",
       "Cloud9am               0.052281      0.019171      0.041369     0.354394   \n",
       "Cloud3pm               0.080202      0.041080      0.019803     0.274613   \n",
       "Temp9am                0.146756      0.128769      0.162144    -0.471137   \n",
       "Temp3pm                0.032274      0.005026      0.028443    -0.492430   \n",
       "RISK_MM                0.156620      0.068828      0.048554     0.170541   \n",
       "RainTomorrow_No       -0.225264     -0.090524     -0.086909    -0.255158   \n",
       "RainTomorrow_Yes       0.225264      0.090524      0.086909     0.255158   \n",
       "\n",
       "                  Humidity3pm  Pressure9am  Pressure3pm  Cloud9am  Cloud3pm  \\\n",
       "MinTemp              0.005913    -0.424357    -0.434034  0.061460  0.015902   \n",
       "MaxTemp             -0.499725    -0.309093    -0.397422 -0.226776 -0.214469   \n",
       "Rainfall             0.249609    -0.159676    -0.120366  0.171613  0.145848   \n",
       "Evaporation         -0.289915    -0.211823    -0.231341 -0.152224 -0.147763   \n",
       "Sunshine            -0.446849     0.030932    -0.015477 -0.537714 -0.559379   \n",
       "WindGustSpeed       -0.025822    -0.426600    -0.384642  0.052281  0.080202   \n",
       "WindSpeed9am        -0.030991    -0.215178    -0.165050  0.019171  0.041080   \n",
       "WindSpeed3pm         0.015789    -0.277495    -0.239743  0.041369  0.019803   \n",
       "Humidity9am          0.659852     0.131601     0.176168  0.354394  0.274613   \n",
       "Humidity3pm          1.000000    -0.025769     0.048566  0.400006  0.407898   \n",
       "Pressure9am         -0.025769     1.000000     0.959878 -0.102097 -0.114936   \n",
       "Pressure3pm          0.048566     0.959878     1.000000 -0.048147 -0.066240   \n",
       "Cloud9am             0.400006    -0.102097    -0.048147  1.000000  0.561183   \n",
       "Cloud3pm             0.407898    -0.114936    -0.066240  0.561183  1.000000   \n",
       "Temp9am             -0.217593    -0.397763    -0.442144 -0.110096 -0.099981   \n",
       "Temp3pm             -0.555777    -0.266308    -0.361308 -0.233144 -0.248291   \n",
       "RISK_MM              0.306711    -0.156060    -0.156623  0.169065  0.199635   \n",
       "RainTomorrow_No     -0.439678     0.234027     0.214688 -0.253832 -0.301841   \n",
       "RainTomorrow_Yes     0.439678    -0.234027    -0.214688  0.253832  0.301841   \n",
       "\n",
       "                   Temp9am   Temp3pm   RISK_MM  RainTomorrow_No  \\\n",
       "MinTemp           0.897999  0.699828  0.123928        -0.083717   \n",
       "MaxTemp           0.880087  0.969735 -0.044154         0.159087   \n",
       "Rainfall          0.011384 -0.077553  0.301844        -0.236874   \n",
       "Evaporation       0.417323  0.429195 -0.031569         0.089551   \n",
       "Sunshine          0.210174  0.349271 -0.222487         0.327029   \n",
       "WindGustSpeed     0.146756  0.032274  0.156620        -0.225264   \n",
       "WindSpeed9am      0.128769  0.005026  0.068828        -0.090524   \n",
       "WindSpeed3pm      0.162144  0.028443  0.048554        -0.086909   \n",
       "Humidity9am      -0.471137 -0.492430  0.170541        -0.255158   \n",
       "Humidity3pm      -0.217593 -0.555777  0.306711        -0.439678   \n",
       "Pressure9am      -0.397763 -0.266308 -0.156060         0.234027   \n",
       "Pressure3pm      -0.442144 -0.361308 -0.156623         0.214688   \n",
       "Cloud9am         -0.110096 -0.233144  0.169065        -0.253832   \n",
       "Cloud3pm         -0.099981 -0.248291  0.199635        -0.301841   \n",
       "Temp9am           1.000000  0.846931  0.050787         0.025582   \n",
       "Temp3pm           0.846931  1.000000 -0.065589         0.190286   \n",
       "RISK_MM           0.050787 -0.065589  1.000000        -0.501485   \n",
       "RainTomorrow_No   0.025582  0.190286 -0.501485         1.000000   \n",
       "RainTomorrow_Yes -0.025582 -0.190286  0.501485        -1.000000   \n",
       "\n",
       "                  RainTomorrow_Yes  \n",
       "MinTemp                   0.083717  \n",
       "MaxTemp                  -0.159087  \n",
       "Rainfall                  0.236874  \n",
       "Evaporation              -0.089551  \n",
       "Sunshine                 -0.327029  \n",
       "WindGustSpeed             0.225264  \n",
       "WindSpeed9am              0.090524  \n",
       "WindSpeed3pm              0.086909  \n",
       "Humidity9am               0.255158  \n",
       "Humidity3pm               0.439678  \n",
       "Pressure9am              -0.234027  \n",
       "Pressure3pm              -0.214688  \n",
       "Cloud9am                  0.253832  \n",
       "Cloud3pm                  0.301841  \n",
       "Temp9am                  -0.025582  \n",
       "Temp3pm                  -0.190286  \n",
       "RISK_MM                   0.501485  \n",
       "RainTomorrow_No          -1.000000  \n",
       "RainTomorrow_Yes          1.000000  "
      ]
     },
     "execution_count": 11,
     "metadata": {},
     "output_type": "execute_result"
    }
   ],
   "source": [
    "data.corr()"
   ]
  },
  {
   "cell_type": "code",
   "execution_count": 12,
   "metadata": {
    "scrolled": true
   },
   "outputs": [
    {
     "data": {
      "image/png": "[encoded data removed]",
      "text/plain": [
       "<Figure size 432x288 with 1 Axes>"
      ]
     },
     "metadata": {
      "needs_background": "light"
     },
     "output_type": "display_data"
    }
   ],
   "source": [
    "plt.scatter( x='RISK_MM', y='RainTomorrow_Yes', data=data);"
   ]
  },
  {
   "cell_type": "code",
   "execution_count": 13,
   "metadata": {},
   "outputs": [
    {
     "data": {
      "text/plain": [
       "array([[13.4, 22.9,  0.6, ..., 21.8,  0. ,  1. ],\n",
       "       [ 7.4, 25.1,  0. , ..., 24.3,  0. ,  1. ],\n",
       "       [12.9, 25.7,  0. , ..., 23.2,  0. ,  1. ],\n",
       "       ...,\n",
       "       [ 3.6, 25.3,  0. , ..., 24.5,  0. ,  1. ],\n",
       "       [ 5.4, 26.9,  0. , ..., 26.1,  0. ,  1. ],\n",
       "       [ 7.8, 27. ,  0. , ..., 26. ,  0. ,  1. ]])"
      ]
     },
     "execution_count": 13,
     "metadata": {},
     "output_type": "execute_result"
    }
   ],
   "source": [
    "y=data['RainTomorrow_Yes'].values\n",
    "X=data.drop(['RainTomorrow_Yes'],axis=1).values\n",
    "X"
   ]
  },
  {
   "cell_type": "code",
   "execution_count": 14,
   "metadata": {},
   "outputs": [
    {
     "data": {
      "text/plain": [
       "array([  -8.5,   -8.2,   -8. , ..., 1040.4, 1040.6, 1040.9])"
      ]
     },
     "execution_count": 14,
     "metadata": {},
     "output_type": "execute_result"
    }
   ],
   "source": [
    "X_train,X_test,y_train,y_test=train_test_split(X,y,test_size=0.3,random_state=21)\n",
    "np.unique(X_train)"
   ]
  },
  {
   "cell_type": "code",
   "execution_count": 15,
   "metadata": {},
   "outputs": [
    {
     "data": {
      "text/plain": [
       "array([  -7.5,   -7.2,   -7. , ..., 1040.4, 1040.5, 1041. ])"
      ]
     },
     "execution_count": 15,
     "metadata": {},
     "output_type": "execute_result"
    }
   ],
   "source": [
    "np.unique(X_test)"
   ]
  },
  {
   "cell_type": "code",
   "execution_count": 16,
   "metadata": {},
   "outputs": [],
   "source": [
    "knn=KNeighborsClassifier(n_neighbors=5)"
   ]
  },
  {
   "cell_type": "code",
   "execution_count": 17,
   "metadata": {
    "scrolled": true
   },
   "outputs": [
    {
     "data": {
      "text/plain": [
       "KNeighborsClassifier(algorithm='auto', leaf_size=30, metric='minkowski',\n",
       "                     metric_params=None, n_jobs=None, n_neighbors=5, p=2,\n",
       "                     weights='uniform')"
      ]
     },
     "execution_count": 17,
     "metadata": {},
     "output_type": "execute_result"
    }
   ],
   "source": [
    "knn.fit(X_train,y_train)"
   ]
  },
  {
   "cell_type": "code",
   "execution_count": 18,
   "metadata": {},
   "outputs": [
    {
     "data": {
      "text/plain": [
       "0.892892306249707"
      ]
     },
     "execution_count": 18,
     "metadata": {},
     "output_type": "execute_result"
    }
   ],
   "source": [
    "knn.score(X_test,y_test)"
   ]
  },
  {
   "cell_type": "code",
   "execution_count": 19,
   "metadata": {},
   "outputs": [
    {
     "data": {
      "text/plain": [
       "array([0.89265083, 0.89194756, 0.89877932, 0.89164615, 0.89099312])"
      ]
     },
     "execution_count": 19,
     "metadata": {},
     "output_type": "execute_result"
    }
   ],
   "source": [
    "cross_val_score(knn,X_train,y_train,cv=5)"
   ]
  },
  {
   "cell_type": "code",
   "execution_count": 20,
   "metadata": {},
   "outputs": [
    {
     "data": {
      "text/plain": [
       "0.8932033957904254"
      ]
     },
     "execution_count": 20,
     "metadata": {},
     "output_type": "execute_result"
    }
   ],
   "source": [
    "np.mean(cross_val_score(knn,X_train,y_train,cv=5))"
   ]
  },
  {
   "cell_type": "code",
   "execution_count": 21,
   "metadata": {},
   "outputs": [],
   "source": [
    "from sklearn.model_selection import GridSearchCV"
   ]
  },
  {
   "cell_type": "code",
   "execution_count": 22,
   "metadata": {},
   "outputs": [],
   "source": [
    "knn_params = {'n_neighbors' : list(range(1,15))}"
   ]
  },
  {
   "cell_type": "code",
   "execution_count": 23,
   "metadata": {},
   "outputs": [],
   "source": [
    "knn_grid = GridSearchCV(knn,knn_params,cv=5)"
   ]
  },
  {
   "cell_type": "code",
   "execution_count": 24,
   "metadata": {},
   "outputs": [
    {
     "data": {
      "text/plain": [
       "GridSearchCV(cv=5, error_score=nan,\n",
       "             estimator=KNeighborsClassifier(algorithm='auto', leaf_size=30,\n",
       "                                            metric='minkowski',\n",
       "                                            metric_params=None, n_jobs=None,\n",
       "                                            n_neighbors=5, p=2,\n",
       "                                            weights='uniform'),\n",
       "             iid='deprecated', n_jobs=None,\n",
       "             param_grid={'n_neighbors': [1, 2, 3, 4, 5, 6, 7, 8, 9, 10, 11, 12,\n",
       "                                         13, 14]},\n",
       "             pre_dispatch='2*n_jobs', refit=True, return_train_score=False,\n",
       "             scoring=None, verbose=0)"
      ]
     },
     "execution_count": 24,
     "metadata": {},
     "output_type": "execute_result"
    }
   ],
   "source": [
    "knn_grid.fit(X_train,y_train)"
   ]
  },
  {
   "cell_type": "code",
   "execution_count": 25,
   "metadata": {},
   "outputs": [
    {
     "data": {
      "text/plain": [
       "(0.8940473200381774, {'n_neighbors': 7})"
      ]
     },
     "execution_count": 25,
     "metadata": {},
     "output_type": "execute_result"
    }
   ],
   "source": [
    "knn_grid.best_score_, knn_grid.best_params_"
   ]
  },
  {
   "cell_type": "markdown",
   "metadata": {},
   "source": [
    "## Лабораторная работа №5\n",
    "### Цель лабораторной работы: изучение линейных моделей, SVM и деревьев решений."
   ]
  },
  {
   "cell_type": "code",
   "execution_count": 26,
   "metadata": {},
   "outputs": [],
   "source": [
    "from sklearn.tree import DecisionTreeClassifier\n",
    "from sklearn.svm import SVC"
   ]
  },
  {
   "cell_type": "code",
   "execution_count": 27,
   "metadata": {},
   "outputs": [],
   "source": [
    "first_tree = DecisionTreeClassifier(random_state=17)"
   ]
  },
  {
   "cell_type": "code",
   "execution_count": 28,
   "metadata": {},
   "outputs": [
    {
     "data": {
      "text/plain": [
       "array([1., 1., 1., 1., 1.])"
      ]
     },
     "execution_count": 28,
     "metadata": {},
     "output_type": "execute_result"
    }
   ],
   "source": [
    "cross_val_score(first_tree, X_train, y_train, cv=5)"
   ]
  },
  {
   "cell_type": "code",
   "execution_count": 29,
   "metadata": {},
   "outputs": [
    {
     "data": {
      "text/plain": [
       "1.0"
      ]
     },
     "execution_count": 29,
     "metadata": {},
     "output_type": "execute_result"
    }
   ],
   "source": [
    "np.mean(cross_val_score(first_tree, X_train, y_train, cv=5))"
   ]
  },
  {
   "cell_type": "code",
   "execution_count": 30,
   "metadata": {},
   "outputs": [],
   "source": [
    "tree_params = {'max_depth': np.arange(2, 11), 'max_features':[.5, .7, 1]}"
   ]
  },
  {
   "cell_type": "code",
   "execution_count": 31,
   "metadata": {},
   "outputs": [],
   "source": [
    "tree_grid = GridSearchCV(first_tree, tree_params, cv=5, n_jobs=-1)"
   ]
  },
  {
   "cell_type": "code",
   "execution_count": 32,
   "metadata": {},
   "outputs": [
    {
     "data": {
      "text/plain": [
       "GridSearchCV(cv=5, error_score=nan,\n",
       "             estimator=DecisionTreeClassifier(ccp_alpha=0.0, class_weight=None,\n",
       "                                              criterion='gini', max_depth=None,\n",
       "                                              max_features=None,\n",
       "                                              max_leaf_nodes=None,\n",
       "                                              min_impurity_decrease=0.0,\n",
       "                                              min_impurity_split=None,\n",
       "                                              min_samples_leaf=1,\n",
       "                                              min_samples_split=2,\n",
       "                                              min_weight_fraction_leaf=0.0,\n",
       "                                              presort='deprecated',\n",
       "                                              random_state=17,\n",
       "                                              splitter='best'),\n",
       "             iid='deprecated', n_jobs=-1,\n",
       "             param_grid={'max_depth': array([ 2,  3,  4,  5,  6,  7,  8,  9, 10]),\n",
       "                         'max_features': [0.5, 0.7, 1]},\n",
       "             pre_dispatch='2*n_jobs', refit=True, return_train_score=False,\n",
       "             scoring=None, verbose=0)"
      ]
     },
     "execution_count": 32,
     "metadata": {},
     "output_type": "execute_result"
    }
   ],
   "source": [
    "tree_grid.fit(X_train, y_train)"
   ]
  },
  {
   "cell_type": "code",
   "execution_count": 33,
   "metadata": {},
   "outputs": [
    {
     "data": {
      "text/plain": [
       "(1.0, {'max_depth': 2, 'max_features': 0.5})"
      ]
     },
     "execution_count": 33,
     "metadata": {},
     "output_type": "execute_result"
    }
   ],
   "source": [
    "tree_grid.best_score_, tree_grid.best_params_"
   ]
  },
  {
   "cell_type": "code",
   "execution_count": 34,
   "metadata": {},
   "outputs": [],
   "source": [
    "from sklearn.metrics import accuracy_score"
   ]
  },
  {
   "cell_type": "code",
   "execution_count": 35,
   "metadata": {},
   "outputs": [],
   "source": [
    "tree_test_pred = tree_grid.predict(X_test)"
   ]
  },
  {
   "cell_type": "code",
   "execution_count": 36,
   "metadata": {},
   "outputs": [
    {
     "data": {
      "text/plain": [
       "1.0"
      ]
     },
     "execution_count": 36,
     "metadata": {},
     "output_type": "execute_result"
    }
   ],
   "source": [
    "accuracy_score(y_test, tree_test_pred)"
   ]
  },
  {
   "cell_type": "code",
   "execution_count": 37,
   "metadata": {},
   "outputs": [],
   "source": [
    "from sklearn.tree import export_graphviz"
   ]
  },
  {
   "cell_type": "code",
   "execution_count": 38,
   "metadata": {},
   "outputs": [
    {
     "data": {
      "text/plain": [
       "1.0"
      ]
     },
     "execution_count": 38,
     "metadata": {},
     "output_type": "execute_result"
    }
   ],
   "source": [
    "second_tree = DecisionTreeClassifier(max_depth=5).fit(X_train, y_train)\n",
    "second_tree.score(X_test, y_test)"
   ]
  },
  {
   "cell_type": "code",
   "execution_count": 39,
   "metadata": {},
   "outputs": [],
   "source": [
    "from sklearn.svm import SVC, NuSVC, LinearSVC, OneClassSVM, SVR, NuSVR, LinearSVR"
   ]
  },
  {
   "cell_type": "code",
   "execution_count": 40,
   "metadata": {},
   "outputs": [
    {
     "data": {
      "text/plain": [
       "SVC(C=1.0, break_ties=False, cache_size=200, class_weight=None, coef0=0.0,\n",
       "    decision_function_shape='ovr', degree=3, gamma='auto', kernel='rbf',\n",
       "    max_iter=-1, probability=False, random_state=None, shrinking=True,\n",
       "    tol=0.001, verbose=False)"
      ]
     },
     "execution_count": 40,
     "metadata": {},
     "output_type": "execute_result"
    }
   ],
   "source": [
    "svc = SVC(gamma='auto')\n",
    "svc.fit(X_train, y_train)"
   ]
  },
  {
   "cell_type": "code",
   "execution_count": 41,
   "metadata": {},
   "outputs": [
    {
     "data": {
      "text/plain": [
       "SVC(C=1.0, break_ties=False, cache_size=200, class_weight=None, coef0=0.0,\n",
       "    decision_function_shape='ovr', degree=3, gamma='auto', kernel='rbf',\n",
       "    max_iter=-1, probability=False, random_state=None, shrinking=True,\n",
       "    tol=0.001, verbose=False)"
      ]
     },
     "execution_count": 41,
     "metadata": {},
     "output_type": "execute_result"
    }
   ],
   "source": [
    "svc.fit(X_train,y_train)"
   ]
  },
  {
   "cell_type": "code",
   "execution_count": 42,
   "metadata": {},
   "outputs": [],
   "source": [
    "svc_pred = svc.predict(X_test)"
   ]
  },
  {
   "cell_type": "code",
   "execution_count": 43,
   "metadata": {},
   "outputs": [
    {
     "data": {
      "text/plain": [
       "array([0.77540564, 0.77545587, 0.77545587, 0.77555634, 0.77545587])"
      ]
     },
     "execution_count": 43,
     "metadata": {},
     "output_type": "execute_result"
    }
   ],
   "source": [
    "cross_val_score(svc, X_train, y_train, cv=5)"
   ]
  },
  {
   "cell_type": "code",
   "execution_count": 48,
   "metadata": {},
   "outputs": [
    {
     "data": {
      "text/plain": [
       "0.775465918"
      ]
     },
     "execution_count": 48,
     "metadata": {},
     "output_type": "execute_result"
    }
   ],
   "source": [
    "np.mean([0.77540564, 0.77545587, 0.77545587, 0.77555634, 0.77545587])"
   ]
  },
  {
   "cell_type": "code",
   "execution_count": 49,
   "metadata": {},
   "outputs": [
    {
     "data": {
      "text/plain": [
       "0.7771109756669323"
      ]
     },
     "execution_count": 49,
     "metadata": {},
     "output_type": "execute_result"
    }
   ],
   "source": [
    "accuracy_score(y_test, svc_pred)"
   ]
  },
  {
   "cell_type": "code",
   "execution_count": 50,
   "metadata": {},
   "outputs": [],
   "source": [
    "from sklearn.linear_model import LinearRegression, LogisticRegressionCV"
   ]
  },
  {
   "cell_type": "code",
   "execution_count": 52,
   "metadata": {},
   "outputs": [],
   "source": [
    "y_new = data['RainTomorrow_Yes'].values\n",
    "X_new = data.drop('RainTomorrow_Yes', axis=1)"
   ]
  },
  {
   "cell_type": "code",
   "execution_count": 53,
   "metadata": {},
   "outputs": [],
   "source": [
    "X_new_train, X_new_test, y_new_train, y_new_test = train_test_split(X_new, y_new, test_size=0.2, random_state=42)"
   ]
  },
  {
   "cell_type": "code",
   "execution_count": 54,
   "metadata": {},
   "outputs": [],
   "source": [
    "reg = LinearRegression()"
   ]
  },
  {
   "cell_type": "code",
   "execution_count": 55,
   "metadata": {},
   "outputs": [
    {
     "data": {
      "text/plain": [
       "LinearRegression(copy_X=True, fit_intercept=True, n_jobs=None, normalize=False)"
      ]
     },
     "execution_count": 55,
     "metadata": {},
     "output_type": "execute_result"
    }
   ],
   "source": [
    "reg.fit(X_new_train,y_new_train)"
   ]
  },
  {
   "cell_type": "code",
   "execution_count": 56,
   "metadata": {},
   "outputs": [
    {
     "name": "stderr",
     "output_type": "stream",
     "text": [
      "[Parallel(n_jobs=-1)]: Using backend LokyBackend with 8 concurrent workers.\n",
      "[Parallel(n_jobs=-1)]: Done   2 out of   5 | elapsed:  9.6min remaining: 14.4min\n",
      "[Parallel(n_jobs=-1)]: Done   5 out of   5 | elapsed: 10.1min finished\n",
      "C:\\Users\\Nikita Anurov\\anaconda3\\lib\\site-packages\\sklearn\\linear_model\\_logistic.py:940: ConvergenceWarning: lbfgs failed to converge (status=1):\n",
      "STOP: TOTAL NO. of ITERATIONS REACHED LIMIT.\n",
      "\n",
      "Increase the number of iterations (max_iter) or scale the data as shown in:\n",
      "    https://scikit-learn.org/stable/modules/preprocessing.html\n",
      "Please also refer to the documentation for alternative solver options:\n",
      "    https://scikit-learn.org/stable/modules/linear_model.html#logistic-regression\n",
      "  extra_warning_msg=_LOGISTIC_SOLVER_CONVERGENCE_MSG)\n"
     ]
    },
    {
     "data": {
      "text/plain": [
       "LogisticRegressionCV(Cs=array([1.00000000e-02, 1.02334021e-02, 1.04722519e-02, 1.07166765e-02,\n",
       "       1.09668060e-02, 1.12227736e-02, 1.14847155e-02, 1.17527712e-02,\n",
       "       1.20270833e-02, 1.23077980e-02, 1.25950646e-02, 1.28890361e-02,\n",
       "       1.31898690e-02, 1.34977233e-02, 1.38127630e-02, 1.41351558e-02,\n",
       "       1.44650734e-02, 1.48026913e-02, 1.51481892e-02, 1.55017512e-02,\n",
       "       1.58635653e-02, 1.62...\n",
       "       8.50863158e+02, 8.70722485e+02, 8.91045332e+02, 9.11842520e+02,\n",
       "       9.33125118e+02, 9.54904456e+02, 9.77192128e+02, 1.00000000e+03]),\n",
       "                     class_weight=None,\n",
       "                     cv=StratifiedKFold(n_splits=5, random_state=17, shuffle=True),\n",
       "                     dual=False, fit_intercept=True, intercept_scaling=1.0,\n",
       "                     l1_ratios=None, max_iter=100, multi_class='auto',\n",
       "                     n_jobs=-1, penalty='l2', random_state=None, refit=True,\n",
       "                     scoring=None, solver='lbfgs', tol=0.0001, verbose=1)"
      ]
     },
     "execution_count": 56,
     "metadata": {},
     "output_type": "execute_result"
    }
   ],
   "source": [
    "from sklearn.model_selection import StratifiedKFold\n",
    "skf = StratifiedKFold(n_splits=5, shuffle=True, random_state=17)\n",
    "\n",
    "c_values = np.logspace(-2, 3, 500)\n",
    "\n",
    "logit_searcher = LogisticRegressionCV(Cs=c_values, cv=skf, verbose=1, n_jobs=-1)\n",
    "logit_searcher.fit(X_new, y_new)"
   ]
  },
  {
   "cell_type": "code",
   "execution_count": 57,
   "metadata": {},
   "outputs": [
    {
     "data": {
      "image/png": "[encoded data removed]",
      "text/plain": [
       "<Figure size 432x288 with 1 Axes>"
      ]
     },
     "metadata": {
      "needs_background": "light"
     },
     "output_type": "display_data"
    }
   ],
   "source": [
    "plt.plot(c_values, np.mean(logit_searcher.scores_[1], axis=0))\n",
    "plt.xlabel('C')\n",
    "plt.ylabel('Mean CV-accuracy');"
   ]
  },
  {
   "cell_type": "code",
   "execution_count": null,
   "metadata": {},
   "outputs": [],
   "source": []
  }
 ],
 "metadata": {
  "kernelspec": {
   "display_name": "Python 3",
   "language": "python",
   "name": "python3"
  },
  "language_info": {
   "codemirror_mode": {
    "name": "ipython",
    "version": 3
   },
   "file_extension": ".py",
   "mimetype": "text/x-python",
   "name": "python",
   "nbconvert_exporter": "python",
   "pygments_lexer": "ipython3",
   "version": "3.7.6"
  }
 },
 "nbformat": 4,
 "nbformat_minor": 4
}
