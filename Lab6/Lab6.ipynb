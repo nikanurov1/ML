{
 "cells": [
  {
   "cell_type": "markdown",
   "metadata": {},
   "source": [
    "# Лабораторная работа №6"
   ]
  },
  {
   "cell_type": "code",
   "execution_count": 7,
   "metadata": {},
   "outputs": [],
   "source": [
    "import numpy as np\n",
    "import matplotlib.pyplot as plt\n",
    "import pandas as pd\n",
    "import seaborn as sns\n",
    "from sklearn.preprocessing import MinMaxScaler\n",
    "from sklearn.linear_model import LinearRegression, LogisticRegression\n",
    "from sklearn.model_selection import train_test_split, cross_val_score\n",
    "from sklearn.neighbors import KNeighborsRegressor, KNeighborsClassifier\n",
    "from sklearn.metrics import accuracy_score, balanced_accuracy_score\n",
    "from sklearn.metrics import precision_score, recall_score, f1_score, classification_report\n",
    "from sklearn.metrics import confusion_matrix\n",
    "from sklearn.metrics import plot_confusion_matrix\n",
    "from sklearn.model_selection import GridSearchCV\n",
    "from sklearn.metrics import mean_absolute_error, mean_squared_error, mean_squared_log_error, median_absolute_error, r2_score \n",
    "from sklearn.metrics import roc_curve, roc_auc_score\n",
    "from sklearn.svm import SVC, NuSVC, LinearSVC, OneClassSVM, SVR, NuSVR, LinearSVR\n",
    "from sklearn.tree import DecisionTreeClassifier, DecisionTreeRegressor, export_graphviz\n",
    "from sklearn.ensemble import RandomForestClassifier, RandomForestRegressor\n",
    "from sklearn.ensemble import ExtraTreesClassifier, ExtraTreesRegressor\n",
    "from sklearn.ensemble import GradientBoostingClassifier, GradientBoostingRegressor\n",
    "\n",
    "%matplotlib inline "
   ]
  },
  {
   "cell_type": "code",
   "execution_count": 8,
   "metadata": {},
   "outputs": [],
   "source": [
    "# Отрисовка ROC-кривой\n",
    "def draw_roc_curve(y_true, y_score, pos_label=1, average='micro'):\n",
    "    fpr, tpr, thresholds = roc_curve(y_true, y_score, \n",
    "                                     pos_label=pos_label)\n",
    "    roc_auc_value = roc_auc_score(y_true, y_score, average=average)\n",
    "    plt.figure()\n",
    "    lw = 2\n",
    "    plt.plot(fpr, tpr, color='darkorange',\n",
    "             lw=lw, label='ROC curve (area = %0.2f)' % roc_auc_value)\n",
    "    plt.plot([0, 1], [0, 1], color='navy', lw=lw, linestyle='--')\n",
    "    plt.xlim([0.0, 1.0])\n",
    "    plt.ylim([0.0, 1.05])\n",
    "    plt.xlabel('False Positive Rate')\n",
    "    plt.ylabel('True Positive Rate')\n",
    "    plt.title('Receiver operating characteristic')\n",
    "    plt.legend(loc=\"lower right\")\n",
    "    plt.show()"
   ]
  },
  {
   "cell_type": "raw",
   "metadata": {},
   "source": [
    "Я выбрал датасет, содержащий данные о футбольных матчах. Ниже приведу полное описание датасета на английскому языке.\n",
    "The dataset contains statistical summary data by the end of each season from 2014 for 6 UEFA Leagues:\n",
    "\n",
    "La Liga\n",
    "\n",
    "EPL\n",
    "\n",
    "BundesLiga\n",
    "\n",
    "Serie A\n",
    "\n",
    "Ligue 1\n",
    "\n",
    "RFPL\n",
    "\n",
    "Standard parameters: position, team, amount of matches played, wins, draws, loses, goals scored, goals missed, points.\n",
    "\n",
    "Additional metrics:\n",
    "\n",
    "xG - expected goals metric, it is a statistical measure of the quality of chances created and conceded. More at understat.com\n",
    "\n",
    "xG_diff - difference between actual goals scored and expected goals.\n",
    "\n",
    "npxG - expected goals without penalties and own goals.\n",
    "\n",
    "xGA - expected goals against.\n",
    "\n",
    "xGA_diff - difference between actual goals missed and expected goals against.\n",
    "\n",
    "npxGA - expected goals against without penalties and own goals.\n",
    "\n",
    "npxGD - difference between \"for\" and \"against\" expected goals without penalties and own goals.\n",
    "\n",
    "ppda_coef - passes allowed per defensive action in the opposition half (power of pressure)\n",
    "\n",
    "oppda_coef - opponent passes allowed per defensive action in the opposition half (power of opponent's pressure)\n",
    "\n",
    "deep - passes completed within an estimated 20 yards of goal (crosses excluded)\n",
    "\n",
    "deep_allowed - opponent passes completed within an estimated 20 yards of goal (crosses excluded)\n",
    "\n",
    "xpts - expected points\n",
    "\n",
    "xpts_diff - difference between actual and expected points\n",
    "\n",
    "Я буду использовать wins в качестве целевого признака."
   ]
  },
  {
   "cell_type": "code",
   "execution_count": 9,
   "metadata": {},
   "outputs": [],
   "source": [
    "df_test=pd.read_csv('test.csv')\n",
    "df_train=pd.read_csv('understat_per_game.csv')"
   ]
  },
  {
   "cell_type": "code",
   "execution_count": 10,
   "metadata": {},
   "outputs": [
    {
     "data": {
      "text/html": [
       "<div>\n",
       "<style scoped>\n",
       "    .dataframe tbody tr th:only-of-type {\n",
       "        vertical-align: middle;\n",
       "    }\n",
       "\n",
       "    .dataframe tbody tr th {\n",
       "        vertical-align: top;\n",
       "    }\n",
       "\n",
       "    .dataframe thead th {\n",
       "        text-align: right;\n",
       "    }\n",
       "</style>\n",
       "<table border=\"1\" class=\"dataframe\">\n",
       "  <thead>\n",
       "    <tr style=\"text-align: right;\">\n",
       "      <th></th>\n",
       "      <th>league</th>\n",
       "      <th>year</th>\n",
       "      <th>h_a</th>\n",
       "      <th>xG</th>\n",
       "      <th>xGA</th>\n",
       "      <th>npxG</th>\n",
       "      <th>npxGA</th>\n",
       "      <th>deep</th>\n",
       "      <th>deep_allowed</th>\n",
       "      <th>scored</th>\n",
       "      <th>...</th>\n",
       "      <th>ppda_coef</th>\n",
       "      <th>ppda_att</th>\n",
       "      <th>ppda_def</th>\n",
       "      <th>oppda_coef</th>\n",
       "      <th>oppda_att</th>\n",
       "      <th>oppda_def</th>\n",
       "      <th>team</th>\n",
       "      <th>xG_diff</th>\n",
       "      <th>xGA_diff</th>\n",
       "      <th>xpts_diff</th>\n",
       "    </tr>\n",
       "  </thead>\n",
       "  <tbody>\n",
       "    <tr>\n",
       "      <th>0</th>\n",
       "      <td>Ligue_1</td>\n",
       "      <td>2019</td>\n",
       "      <td>a</td>\n",
       "      <td>1.514670</td>\n",
       "      <td>1.124190</td>\n",
       "      <td>0.754575</td>\n",
       "      <td>1.124190</td>\n",
       "      <td>3</td>\n",
       "      <td>2</td>\n",
       "      <td>2</td>\n",
       "      <td>...</td>\n",
       "      <td>14.727273</td>\n",
       "      <td>324</td>\n",
       "      <td>22</td>\n",
       "      <td>10.952381</td>\n",
       "      <td>230</td>\n",
       "      <td>21</td>\n",
       "      <td>Marseille</td>\n",
       "      <td>-0.485330</td>\n",
       "      <td>0.124190</td>\n",
       "      <td>-1.2568</td>\n",
       "    </tr>\n",
       "    <tr>\n",
       "      <th>1</th>\n",
       "      <td>Ligue_1</td>\n",
       "      <td>2019</td>\n",
       "      <td>h</td>\n",
       "      <td>2.561580</td>\n",
       "      <td>1.170330</td>\n",
       "      <td>1.801490</td>\n",
       "      <td>1.170330</td>\n",
       "      <td>11</td>\n",
       "      <td>2</td>\n",
       "      <td>0</td>\n",
       "      <td>...</td>\n",
       "      <td>8.827586</td>\n",
       "      <td>256</td>\n",
       "      <td>29</td>\n",
       "      <td>10.227273</td>\n",
       "      <td>225</td>\n",
       "      <td>22</td>\n",
       "      <td>Montpellier</td>\n",
       "      <td>2.561580</td>\n",
       "      <td>0.170330</td>\n",
       "      <td>2.3471</td>\n",
       "    </tr>\n",
       "    <tr>\n",
       "      <th>2</th>\n",
       "      <td>Ligue_1</td>\n",
       "      <td>2019</td>\n",
       "      <td>a</td>\n",
       "      <td>0.683431</td>\n",
       "      <td>0.785876</td>\n",
       "      <td>0.683431</td>\n",
       "      <td>0.785876</td>\n",
       "      <td>5</td>\n",
       "      <td>1</td>\n",
       "      <td>1</td>\n",
       "      <td>...</td>\n",
       "      <td>10.297297</td>\n",
       "      <td>381</td>\n",
       "      <td>37</td>\n",
       "      <td>6.700000</td>\n",
       "      <td>134</td>\n",
       "      <td>20</td>\n",
       "      <td>Montpellier</td>\n",
       "      <td>-0.316569</td>\n",
       "      <td>-0.214124</td>\n",
       "      <td>0.2503</td>\n",
       "    </tr>\n",
       "    <tr>\n",
       "      <th>3</th>\n",
       "      <td>Ligue_1</td>\n",
       "      <td>2019</td>\n",
       "      <td>h</td>\n",
       "      <td>1.891860</td>\n",
       "      <td>1.042850</td>\n",
       "      <td>1.131760</td>\n",
       "      <td>1.042850</td>\n",
       "      <td>7</td>\n",
       "      <td>2</td>\n",
       "      <td>1</td>\n",
       "      <td>...</td>\n",
       "      <td>14.368421</td>\n",
       "      <td>273</td>\n",
       "      <td>19</td>\n",
       "      <td>17.705882</td>\n",
       "      <td>301</td>\n",
       "      <td>17</td>\n",
       "      <td>Montpellier</td>\n",
       "      <td>0.891860</td>\n",
       "      <td>1.042850</td>\n",
       "      <td>-0.9508</td>\n",
       "    </tr>\n",
       "    <tr>\n",
       "      <th>4</th>\n",
       "      <td>Ligue_1</td>\n",
       "      <td>2019</td>\n",
       "      <td>a</td>\n",
       "      <td>0.767321</td>\n",
       "      <td>0.825226</td>\n",
       "      <td>0.767321</td>\n",
       "      <td>0.825226</td>\n",
       "      <td>6</td>\n",
       "      <td>3</td>\n",
       "      <td>0</td>\n",
       "      <td>...</td>\n",
       "      <td>12.714286</td>\n",
       "      <td>267</td>\n",
       "      <td>21</td>\n",
       "      <td>12.115385</td>\n",
       "      <td>315</td>\n",
       "      <td>26</td>\n",
       "      <td>Montpellier</td>\n",
       "      <td>0.767321</td>\n",
       "      <td>-0.174774</td>\n",
       "      <td>1.2657</td>\n",
       "    </tr>\n",
       "  </tbody>\n",
       "</table>\n",
       "<p>5 rows × 29 columns</p>\n",
       "</div>"
      ],
      "text/plain": [
       "    league  year h_a        xG       xGA      npxG     npxGA  deep  \\\n",
       "0  Ligue_1  2019   a  1.514670  1.124190  0.754575  1.124190     3   \n",
       "1  Ligue_1  2019   h  2.561580  1.170330  1.801490  1.170330    11   \n",
       "2  Ligue_1  2019   a  0.683431  0.785876  0.683431  0.785876     5   \n",
       "3  Ligue_1  2019   h  1.891860  1.042850  1.131760  1.042850     7   \n",
       "4  Ligue_1  2019   a  0.767321  0.825226  0.767321  0.825226     6   \n",
       "\n",
       "   deep_allowed  scored  ...  ppda_coef  ppda_att ppda_def oppda_coef  \\\n",
       "0             2       2  ...  14.727273       324       22  10.952381   \n",
       "1             2       0  ...   8.827586       256       29  10.227273   \n",
       "2             1       1  ...  10.297297       381       37   6.700000   \n",
       "3             2       1  ...  14.368421       273       19  17.705882   \n",
       "4             3       0  ...  12.714286       267       21  12.115385   \n",
       "\n",
       "   oppda_att  oppda_def         team   xG_diff  xGA_diff  xpts_diff  \n",
       "0        230         21    Marseille -0.485330  0.124190    -1.2568  \n",
       "1        225         22  Montpellier  2.561580  0.170330     2.3471  \n",
       "2        134         20  Montpellier -0.316569 -0.214124     0.2503  \n",
       "3        301         17  Montpellier  0.891860  1.042850    -0.9508  \n",
       "4        315         26  Montpellier  0.767321 -0.174774     1.2657  \n",
       "\n",
       "[5 rows x 29 columns]"
      ]
     },
     "execution_count": 10,
     "metadata": {},
     "output_type": "execute_result"
    }
   ],
   "source": [
    "df_test.head()"
   ]
  },
  {
   "cell_type": "code",
   "execution_count": 11,
   "metadata": {},
   "outputs": [
    {
     "data": {
      "text/html": [
       "<div>\n",
       "<style scoped>\n",
       "    .dataframe tbody tr th:only-of-type {\n",
       "        vertical-align: middle;\n",
       "    }\n",
       "\n",
       "    .dataframe tbody tr th {\n",
       "        vertical-align: top;\n",
       "    }\n",
       "\n",
       "    .dataframe thead th {\n",
       "        text-align: right;\n",
       "    }\n",
       "</style>\n",
       "<table border=\"1\" class=\"dataframe\">\n",
       "  <thead>\n",
       "    <tr style=\"text-align: right;\">\n",
       "      <th></th>\n",
       "      <th>league</th>\n",
       "      <th>year</th>\n",
       "      <th>h_a</th>\n",
       "      <th>xG</th>\n",
       "      <th>xGA</th>\n",
       "      <th>npxG</th>\n",
       "      <th>npxGA</th>\n",
       "      <th>deep</th>\n",
       "      <th>deep_allowed</th>\n",
       "      <th>scored</th>\n",
       "      <th>...</th>\n",
       "      <th>ppda_coef</th>\n",
       "      <th>ppda_att</th>\n",
       "      <th>ppda_def</th>\n",
       "      <th>oppda_coef</th>\n",
       "      <th>oppda_att</th>\n",
       "      <th>oppda_def</th>\n",
       "      <th>team</th>\n",
       "      <th>xG_diff</th>\n",
       "      <th>xGA_diff</th>\n",
       "      <th>xpts_diff</th>\n",
       "    </tr>\n",
       "  </thead>\n",
       "  <tbody>\n",
       "    <tr>\n",
       "      <th>0</th>\n",
       "      <td>Bundesliga</td>\n",
       "      <td>2014</td>\n",
       "      <td>h</td>\n",
       "      <td>2.57012</td>\n",
       "      <td>1.198420</td>\n",
       "      <td>2.57012</td>\n",
       "      <td>1.198420</td>\n",
       "      <td>5</td>\n",
       "      <td>4</td>\n",
       "      <td>2</td>\n",
       "      <td>...</td>\n",
       "      <td>9.625000</td>\n",
       "      <td>231</td>\n",
       "      <td>24</td>\n",
       "      <td>21.850000</td>\n",
       "      <td>437</td>\n",
       "      <td>20</td>\n",
       "      <td>Bayern Munich</td>\n",
       "      <td>0.57012</td>\n",
       "      <td>0.198420</td>\n",
       "      <td>-0.6514</td>\n",
       "    </tr>\n",
       "    <tr>\n",
       "      <th>1</th>\n",
       "      <td>Bundesliga</td>\n",
       "      <td>2014</td>\n",
       "      <td>a</td>\n",
       "      <td>1.50328</td>\n",
       "      <td>1.307950</td>\n",
       "      <td>1.50328</td>\n",
       "      <td>1.307950</td>\n",
       "      <td>10</td>\n",
       "      <td>1</td>\n",
       "      <td>1</td>\n",
       "      <td>...</td>\n",
       "      <td>4.756098</td>\n",
       "      <td>195</td>\n",
       "      <td>41</td>\n",
       "      <td>17.695652</td>\n",
       "      <td>407</td>\n",
       "      <td>23</td>\n",
       "      <td>Bayern Munich</td>\n",
       "      <td>0.50328</td>\n",
       "      <td>0.307950</td>\n",
       "      <td>0.5143</td>\n",
       "    </tr>\n",
       "    <tr>\n",
       "      <th>2</th>\n",
       "      <td>Bundesliga</td>\n",
       "      <td>2014</td>\n",
       "      <td>h</td>\n",
       "      <td>1.22987</td>\n",
       "      <td>0.310166</td>\n",
       "      <td>1.22987</td>\n",
       "      <td>0.310166</td>\n",
       "      <td>13</td>\n",
       "      <td>3</td>\n",
       "      <td>2</td>\n",
       "      <td>...</td>\n",
       "      <td>5.060606</td>\n",
       "      <td>167</td>\n",
       "      <td>33</td>\n",
       "      <td>16.961538</td>\n",
       "      <td>441</td>\n",
       "      <td>26</td>\n",
       "      <td>Bayern Munich</td>\n",
       "      <td>-0.77013</td>\n",
       "      <td>0.310166</td>\n",
       "      <td>-0.8412</td>\n",
       "    </tr>\n",
       "    <tr>\n",
       "      <th>3</th>\n",
       "      <td>Bundesliga</td>\n",
       "      <td>2014</td>\n",
       "      <td>a</td>\n",
       "      <td>1.03519</td>\n",
       "      <td>0.203118</td>\n",
       "      <td>1.03519</td>\n",
       "      <td>0.203118</td>\n",
       "      <td>6</td>\n",
       "      <td>2</td>\n",
       "      <td>0</td>\n",
       "      <td>...</td>\n",
       "      <td>4.423077</td>\n",
       "      <td>115</td>\n",
       "      <td>26</td>\n",
       "      <td>9.446809</td>\n",
       "      <td>444</td>\n",
       "      <td>47</td>\n",
       "      <td>Bayern Munich</td>\n",
       "      <td>1.03519</td>\n",
       "      <td>0.203118</td>\n",
       "      <td>1.1367</td>\n",
       "    </tr>\n",
       "    <tr>\n",
       "      <th>4</th>\n",
       "      <td>Bundesliga</td>\n",
       "      <td>2014</td>\n",
       "      <td>h</td>\n",
       "      <td>3.48286</td>\n",
       "      <td>0.402844</td>\n",
       "      <td>3.48286</td>\n",
       "      <td>0.402844</td>\n",
       "      <td>23</td>\n",
       "      <td>2</td>\n",
       "      <td>4</td>\n",
       "      <td>...</td>\n",
       "      <td>4.250000</td>\n",
       "      <td>170</td>\n",
       "      <td>40</td>\n",
       "      <td>44.800000</td>\n",
       "      <td>448</td>\n",
       "      <td>10</td>\n",
       "      <td>Bayern Munich</td>\n",
       "      <td>-0.51714</td>\n",
       "      <td>0.402844</td>\n",
       "      <td>-0.0713</td>\n",
       "    </tr>\n",
       "  </tbody>\n",
       "</table>\n",
       "<p>5 rows × 29 columns</p>\n",
       "</div>"
      ],
      "text/plain": [
       "       league  year h_a       xG       xGA     npxG     npxGA  deep  \\\n",
       "0  Bundesliga  2014   h  2.57012  1.198420  2.57012  1.198420     5   \n",
       "1  Bundesliga  2014   a  1.50328  1.307950  1.50328  1.307950    10   \n",
       "2  Bundesliga  2014   h  1.22987  0.310166  1.22987  0.310166    13   \n",
       "3  Bundesliga  2014   a  1.03519  0.203118  1.03519  0.203118     6   \n",
       "4  Bundesliga  2014   h  3.48286  0.402844  3.48286  0.402844    23   \n",
       "\n",
       "   deep_allowed  scored  ...  ppda_coef  ppda_att ppda_def oppda_coef  \\\n",
       "0             4       2  ...   9.625000       231       24  21.850000   \n",
       "1             1       1  ...   4.756098       195       41  17.695652   \n",
       "2             3       2  ...   5.060606       167       33  16.961538   \n",
       "3             2       0  ...   4.423077       115       26   9.446809   \n",
       "4             2       4  ...   4.250000       170       40  44.800000   \n",
       "\n",
       "   oppda_att  oppda_def           team  xG_diff  xGA_diff  xpts_diff  \n",
       "0        437         20  Bayern Munich  0.57012  0.198420    -0.6514  \n",
       "1        407         23  Bayern Munich  0.50328  0.307950     0.5143  \n",
       "2        441         26  Bayern Munich -0.77013  0.310166    -0.8412  \n",
       "3        444         47  Bayern Munich  1.03519  0.203118     1.1367  \n",
       "4        448         10  Bayern Munich -0.51714  0.402844    -0.0713  \n",
       "\n",
       "[5 rows x 29 columns]"
      ]
     },
     "execution_count": 11,
     "metadata": {},
     "output_type": "execute_result"
    }
   ],
   "source": [
    "df_train.head()"
   ]
  },
  {
   "cell_type": "code",
   "execution_count": 12,
   "metadata": {},
   "outputs": [
    {
     "data": {
      "text/plain": [
       "((7383, 29), (15953, 29))"
      ]
     },
     "execution_count": 12,
     "metadata": {},
     "output_type": "execute_result"
    }
   ],
   "source": [
    "df_test.shape,df_train.shape"
   ]
  },
  {
   "cell_type": "code",
   "execution_count": 13,
   "metadata": {},
   "outputs": [
    {
     "data": {
      "text/plain": [
       "Index(['league', 'year', 'h_a', 'xG', 'xGA', 'npxG', 'npxGA', 'deep',\n",
       "       'deep_allowed', 'scored', 'missed', 'xpts', 'result', 'date', 'wins',\n",
       "       'draws', 'loses', 'pts', 'npxGD', 'ppda_coef', 'ppda_att', 'ppda_def',\n",
       "       'oppda_coef', 'oppda_att', 'oppda_def', 'team', 'xG_diff', 'xGA_diff',\n",
       "       'xpts_diff'],\n",
       "      dtype='object')"
      ]
     },
     "execution_count": 13,
     "metadata": {},
     "output_type": "execute_result"
    }
   ],
   "source": [
    "df_train.columns"
   ]
  },
  {
   "cell_type": "code",
   "execution_count": 14,
   "metadata": {},
   "outputs": [
    {
     "data": {
      "text/plain": [
       "Index(['league', 'year', 'h_a', 'xG', 'xGA', 'npxG', 'npxGA', 'deep',\n",
       "       'deep_allowed', 'scored', 'missed', 'xpts', 'result', 'date', 'wins',\n",
       "       'draws', 'loses', 'pts', 'npxGD', 'ppda_coef', 'ppda_att', 'ppda_def',\n",
       "       'oppda_coef', 'oppda_att', 'oppda_def', 'team', 'xG_diff', 'xGA_diff',\n",
       "       'xpts_diff'],\n",
       "      dtype='object')"
      ]
     },
     "execution_count": 14,
     "metadata": {},
     "output_type": "execute_result"
    }
   ],
   "source": [
    "df_test.columns"
   ]
  },
  {
   "cell_type": "code",
   "execution_count": 15,
   "metadata": {},
   "outputs": [
    {
     "data": {
      "text/plain": [
       "league           object\n",
       "year              int64\n",
       "h_a              object\n",
       "xG              float64\n",
       "xGA             float64\n",
       "npxG            float64\n",
       "npxGA           float64\n",
       "deep              int64\n",
       "deep_allowed      int64\n",
       "scored            int64\n",
       "missed            int64\n",
       "xpts            float64\n",
       "result           object\n",
       "date             object\n",
       "wins              int64\n",
       "draws             int64\n",
       "loses             int64\n",
       "pts               int64\n",
       "npxGD           float64\n",
       "ppda_coef       float64\n",
       "ppda_att          int64\n",
       "ppda_def          int64\n",
       "oppda_coef      float64\n",
       "oppda_att         int64\n",
       "oppda_def         int64\n",
       "team             object\n",
       "xG_diff         float64\n",
       "xGA_diff        float64\n",
       "xpts_diff       float64\n",
       "dtype: object"
      ]
     },
     "execution_count": 15,
     "metadata": {},
     "output_type": "execute_result"
    }
   ],
   "source": [
    "df_train.dtypes"
   ]
  },
  {
   "cell_type": "code",
   "execution_count": 16,
   "metadata": {},
   "outputs": [
    {
     "data": {
      "text/plain": [
       "league           object\n",
       "year              int64\n",
       "h_a              object\n",
       "xG              float64\n",
       "xGA             float64\n",
       "npxG            float64\n",
       "npxGA           float64\n",
       "deep              int64\n",
       "deep_allowed      int64\n",
       "scored            int64\n",
       "missed            int64\n",
       "xpts            float64\n",
       "result           object\n",
       "date             object\n",
       "wins              int64\n",
       "draws             int64\n",
       "loses             int64\n",
       "pts               int64\n",
       "npxGD           float64\n",
       "ppda_coef       float64\n",
       "ppda_att          int64\n",
       "ppda_def          int64\n",
       "oppda_coef      float64\n",
       "oppda_att         int64\n",
       "oppda_def         int64\n",
       "team             object\n",
       "xG_diff         float64\n",
       "xGA_diff        float64\n",
       "xpts_diff       float64\n",
       "dtype: object"
      ]
     },
     "execution_count": 16,
     "metadata": {},
     "output_type": "execute_result"
    }
   ],
   "source": [
    "df_test.dtypes"
   ]
  },
  {
   "cell_type": "code",
   "execution_count": 17,
   "metadata": {},
   "outputs": [
    {
     "data": {
      "text/plain": [
       "league          0\n",
       "year            0\n",
       "h_a             0\n",
       "xG              0\n",
       "xGA             0\n",
       "npxG            0\n",
       "npxGA           0\n",
       "deep            0\n",
       "deep_allowed    0\n",
       "scored          0\n",
       "missed          0\n",
       "xpts            0\n",
       "result          0\n",
       "date            0\n",
       "wins            0\n",
       "draws           0\n",
       "loses           0\n",
       "pts             0\n",
       "npxGD           0\n",
       "ppda_coef       0\n",
       "ppda_att        0\n",
       "ppda_def        0\n",
       "oppda_coef      0\n",
       "oppda_att       0\n",
       "oppda_def       0\n",
       "team            0\n",
       "xG_diff         0\n",
       "xGA_diff        0\n",
       "xpts_diff       0\n",
       "dtype: int64"
      ]
     },
     "execution_count": 17,
     "metadata": {},
     "output_type": "execute_result"
    }
   ],
   "source": [
    "df_train.isnull().sum()"
   ]
  },
  {
   "cell_type": "code",
   "execution_count": 18,
   "metadata": {},
   "outputs": [
    {
     "data": {
      "text/plain": [
       "league          0\n",
       "year            0\n",
       "h_a             0\n",
       "xG              0\n",
       "xGA             0\n",
       "npxG            0\n",
       "npxGA           0\n",
       "deep            0\n",
       "deep_allowed    0\n",
       "scored          0\n",
       "missed          0\n",
       "xpts            0\n",
       "result          0\n",
       "date            0\n",
       "wins            0\n",
       "draws           0\n",
       "loses           0\n",
       "pts             0\n",
       "npxGD           0\n",
       "ppda_coef       0\n",
       "ppda_att        0\n",
       "ppda_def        0\n",
       "oppda_coef      0\n",
       "oppda_att       0\n",
       "oppda_def       0\n",
       "team            0\n",
       "xG_diff         0\n",
       "xGA_diff        0\n",
       "xpts_diff       0\n",
       "dtype: int64"
      ]
     },
     "execution_count": 18,
     "metadata": {},
     "output_type": "execute_result"
    }
   ],
   "source": [
    "df_test.isnull().sum()"
   ]
  },
  {
   "cell_type": "markdown",
   "metadata": {},
   "source": [
    "Ни тестовая, ни обучающая выборки не содержат пропусков. Построим графики"
   ]
  },
  {
   "cell_type": "code",
   "execution_count": 20,
   "metadata": {},
   "outputs": [
    {
     "data": {
      "text/plain": [
       "array([1, 0], dtype=int64)"
      ]
     },
     "execution_count": 20,
     "metadata": {},
     "output_type": "execute_result"
    }
   ],
   "source": [
    "df_train['wins'].unique()"
   ]
  },
  {
   "cell_type": "code",
   "execution_count": 82,
   "metadata": {},
   "outputs": [
    {
     "data": {
      "text/plain": [
       "<matplotlib.axes._subplots.AxesSubplot at 0x2012b497608>"
      ]
     },
     "execution_count": 82,
     "metadata": {},
     "output_type": "execute_result"
    },
    {
     "data": {
      "image/png": "[encoded data removed]",
      "text/plain": [
       "<Figure size 432x288 with 1 Axes>"
      ]
     },
     "metadata": {
      "needs_background": "light"
     },
     "output_type": "display_data"
    }
   ],
   "source": [
    "sns.countplot(df_train['wins'])"
   ]
  },
  {
   "cell_type": "code",
   "execution_count": 22,
   "metadata": {},
   "outputs": [
    {
     "data": {
      "text/plain": [
       "0    9944\n",
       "1    6009\n",
       "Name: wins, dtype: int64"
      ]
     },
     "execution_count": 22,
     "metadata": {},
     "output_type": "execute_result"
    }
   ],
   "source": [
    "df_train['wins'].value_counts()"
   ]
  },
  {
   "cell_type": "code",
   "execution_count": 24,
   "metadata": {},
   "outputs": [
    {
     "data": {
      "text/plain": [
       "league           object\n",
       "year              int64\n",
       "h_a              object\n",
       "xG              float64\n",
       "xGA             float64\n",
       "npxG            float64\n",
       "npxGA           float64\n",
       "deep              int64\n",
       "deep_allowed      int64\n",
       "scored            int64\n",
       "missed            int64\n",
       "xpts            float64\n",
       "result           object\n",
       "date             object\n",
       "wins              int64\n",
       "draws             int64\n",
       "loses             int64\n",
       "pts               int64\n",
       "npxGD           float64\n",
       "ppda_coef       float64\n",
       "ppda_att          int64\n",
       "ppda_def          int64\n",
       "oppda_coef      float64\n",
       "oppda_att         int64\n",
       "oppda_def         int64\n",
       "team             object\n",
       "xG_diff         float64\n",
       "xGA_diff        float64\n",
       "xpts_diff       float64\n",
       "dtype: object"
      ]
     },
     "execution_count": 24,
     "metadata": {},
     "output_type": "execute_result"
    }
   ],
   "source": [
    "df_train.dtypes"
   ]
  },
  {
   "cell_type": "code",
   "execution_count": 45,
   "metadata": {},
   "outputs": [],
   "source": [
    "# Добавим колонку для последующего разделения.\n",
    "df_train['data']='TRAIN'\n",
    "df_test['data']='TEST'"
   ]
  },
  {
   "cell_type": "code",
   "execution_count": 46,
   "metadata": {},
   "outputs": [],
   "source": [
    "#Колонки для объединения\n",
    "join_cols=['xG', 'xGA', 'scored',  'xpts',  'pts','wins' ,'data']"
   ]
  },
  {
   "cell_type": "code",
   "execution_count": 47,
   "metadata": {},
   "outputs": [],
   "source": [
    "df_all=pd.concat([df_train[join_cols], df_test[join_cols]])"
   ]
  },
  {
   "cell_type": "code",
   "execution_count": 48,
   "metadata": {},
   "outputs": [],
   "source": [
    "assert df_all.shape[0]==df_train.shape[0]+df_test.shape[0]"
   ]
  },
  {
   "cell_type": "code",
   "execution_count": 49,
   "metadata": {},
   "outputs": [
    {
     "data": {
      "text/html": [
       "<div>\n",
       "<style scoped>\n",
       "    .dataframe tbody tr th:only-of-type {\n",
       "        vertical-align: middle;\n",
       "    }\n",
       "\n",
       "    .dataframe tbody tr th {\n",
       "        vertical-align: top;\n",
       "    }\n",
       "\n",
       "    .dataframe thead th {\n",
       "        text-align: right;\n",
       "    }\n",
       "</style>\n",
       "<table border=\"1\" class=\"dataframe\">\n",
       "  <thead>\n",
       "    <tr style=\"text-align: right;\">\n",
       "      <th></th>\n",
       "      <th>xG</th>\n",
       "      <th>xGA</th>\n",
       "      <th>scored</th>\n",
       "      <th>xpts</th>\n",
       "      <th>pts</th>\n",
       "      <th>wins</th>\n",
       "      <th>data</th>\n",
       "    </tr>\n",
       "  </thead>\n",
       "  <tbody>\n",
       "    <tr>\n",
       "      <th>0</th>\n",
       "      <td>2.57012</td>\n",
       "      <td>1.198420</td>\n",
       "      <td>2</td>\n",
       "      <td>2.3486</td>\n",
       "      <td>3</td>\n",
       "      <td>1</td>\n",
       "      <td>TRAIN</td>\n",
       "    </tr>\n",
       "    <tr>\n",
       "      <th>1</th>\n",
       "      <td>1.50328</td>\n",
       "      <td>1.307950</td>\n",
       "      <td>1</td>\n",
       "      <td>1.5143</td>\n",
       "      <td>1</td>\n",
       "      <td>0</td>\n",
       "      <td>TRAIN</td>\n",
       "    </tr>\n",
       "    <tr>\n",
       "      <th>2</th>\n",
       "      <td>1.22987</td>\n",
       "      <td>0.310166</td>\n",
       "      <td>2</td>\n",
       "      <td>2.1588</td>\n",
       "      <td>3</td>\n",
       "      <td>1</td>\n",
       "      <td>TRAIN</td>\n",
       "    </tr>\n",
       "    <tr>\n",
       "      <th>3</th>\n",
       "      <td>1.03519</td>\n",
       "      <td>0.203118</td>\n",
       "      <td>0</td>\n",
       "      <td>2.1367</td>\n",
       "      <td>1</td>\n",
       "      <td>0</td>\n",
       "      <td>TRAIN</td>\n",
       "    </tr>\n",
       "    <tr>\n",
       "      <th>4</th>\n",
       "      <td>3.48286</td>\n",
       "      <td>0.402844</td>\n",
       "      <td>4</td>\n",
       "      <td>2.9287</td>\n",
       "      <td>3</td>\n",
       "      <td>1</td>\n",
       "      <td>TRAIN</td>\n",
       "    </tr>\n",
       "  </tbody>\n",
       "</table>\n",
       "</div>"
      ],
      "text/plain": [
       "        xG       xGA  scored    xpts  pts  wins   data\n",
       "0  2.57012  1.198420       2  2.3486    3     1  TRAIN\n",
       "1  1.50328  1.307950       1  1.5143    1     0  TRAIN\n",
       "2  1.22987  0.310166       2  2.1588    3     1  TRAIN\n",
       "3  1.03519  0.203118       0  2.1367    1     0  TRAIN\n",
       "4  3.48286  0.402844       4  2.9287    3     1  TRAIN"
      ]
     },
     "execution_count": 49,
     "metadata": {},
     "output_type": "execute_result"
    }
   ],
   "source": [
    "df_all.head()"
   ]
  },
  {
   "cell_type": "code",
   "execution_count": 30,
   "metadata": {},
   "outputs": [
    {
     "data": {
      "text/plain": [
       "(23336, 7)"
      ]
     },
     "execution_count": 30,
     "metadata": {},
     "output_type": "execute_result"
    }
   ],
   "source": [
    "df_all.shape"
   ]
  },
  {
   "cell_type": "code",
   "execution_count": 31,
   "metadata": {},
   "outputs": [],
   "source": [
    "# Числовые колонки для масштабирования\n",
    "scale_cols = ['xG', 'xGA', 'scored',  'xpts',  'pts']"
   ]
  },
  {
   "cell_type": "code",
   "execution_count": 32,
   "metadata": {},
   "outputs": [],
   "source": [
    "sc1 = MinMaxScaler()\n",
    "sc1_data = sc1.fit_transform(df_all[scale_cols])"
   ]
  },
  {
   "cell_type": "code",
   "execution_count": 33,
   "metadata": {},
   "outputs": [],
   "source": [
    "# Добавим масштабированные данные в набор данных\n",
    "for i in range(len(scale_cols)):\n",
    "    col = scale_cols[i]\n",
    "    new_col_name = col + '_scaled'\n",
    "    df_all[new_col_name] = sc1_data[:,i]"
   ]
  },
  {
   "cell_type": "code",
   "execution_count": 34,
   "metadata": {},
   "outputs": [
    {
     "data": {
      "text/html": [
       "<div>\n",
       "<style scoped>\n",
       "    .dataframe tbody tr th:only-of-type {\n",
       "        vertical-align: middle;\n",
       "    }\n",
       "\n",
       "    .dataframe tbody tr th {\n",
       "        vertical-align: top;\n",
       "    }\n",
       "\n",
       "    .dataframe thead th {\n",
       "        text-align: right;\n",
       "    }\n",
       "</style>\n",
       "<table border=\"1\" class=\"dataframe\">\n",
       "  <thead>\n",
       "    <tr style=\"text-align: right;\">\n",
       "      <th></th>\n",
       "      <th>xG</th>\n",
       "      <th>xGA</th>\n",
       "      <th>scored</th>\n",
       "      <th>xpts</th>\n",
       "      <th>pts</th>\n",
       "      <th>wins</th>\n",
       "      <th>data</th>\n",
       "      <th>xG_scaled</th>\n",
       "      <th>xGA_scaled</th>\n",
       "      <th>scored_scaled</th>\n",
       "      <th>xpts_scaled</th>\n",
       "      <th>pts_scaled</th>\n",
       "    </tr>\n",
       "  </thead>\n",
       "  <tbody>\n",
       "    <tr>\n",
       "      <th>0</th>\n",
       "      <td>2.57012</td>\n",
       "      <td>1.198420</td>\n",
       "      <td>2</td>\n",
       "      <td>2.3486</td>\n",
       "      <td>3</td>\n",
       "      <td>1</td>\n",
       "      <td>TRAIN</td>\n",
       "      <td>0.387621</td>\n",
       "      <td>0.180744</td>\n",
       "      <td>0.2</td>\n",
       "      <td>0.782867</td>\n",
       "      <td>1.000000</td>\n",
       "    </tr>\n",
       "    <tr>\n",
       "      <th>1</th>\n",
       "      <td>1.50328</td>\n",
       "      <td>1.307950</td>\n",
       "      <td>1</td>\n",
       "      <td>1.5143</td>\n",
       "      <td>1</td>\n",
       "      <td>0</td>\n",
       "      <td>TRAIN</td>\n",
       "      <td>0.226722</td>\n",
       "      <td>0.197263</td>\n",
       "      <td>0.1</td>\n",
       "      <td>0.504767</td>\n",
       "      <td>0.333333</td>\n",
       "    </tr>\n",
       "    <tr>\n",
       "      <th>2</th>\n",
       "      <td>1.22987</td>\n",
       "      <td>0.310166</td>\n",
       "      <td>2</td>\n",
       "      <td>2.1588</td>\n",
       "      <td>3</td>\n",
       "      <td>1</td>\n",
       "      <td>TRAIN</td>\n",
       "      <td>0.185487</td>\n",
       "      <td>0.046779</td>\n",
       "      <td>0.2</td>\n",
       "      <td>0.719600</td>\n",
       "      <td>1.000000</td>\n",
       "    </tr>\n",
       "    <tr>\n",
       "      <th>3</th>\n",
       "      <td>1.03519</td>\n",
       "      <td>0.203118</td>\n",
       "      <td>0</td>\n",
       "      <td>2.1367</td>\n",
       "      <td>1</td>\n",
       "      <td>0</td>\n",
       "      <td>TRAIN</td>\n",
       "      <td>0.156126</td>\n",
       "      <td>0.030634</td>\n",
       "      <td>0.0</td>\n",
       "      <td>0.712233</td>\n",
       "      <td>0.333333</td>\n",
       "    </tr>\n",
       "    <tr>\n",
       "      <th>4</th>\n",
       "      <td>3.48286</td>\n",
       "      <td>0.402844</td>\n",
       "      <td>4</td>\n",
       "      <td>2.9287</td>\n",
       "      <td>3</td>\n",
       "      <td>1</td>\n",
       "      <td>TRAIN</td>\n",
       "      <td>0.525279</td>\n",
       "      <td>0.060756</td>\n",
       "      <td>0.4</td>\n",
       "      <td>0.976233</td>\n",
       "      <td>1.000000</td>\n",
       "    </tr>\n",
       "  </tbody>\n",
       "</table>\n",
       "</div>"
      ],
      "text/plain": [
       "        xG       xGA  scored    xpts  pts  wins   data  xG_scaled  xGA_scaled  \\\n",
       "0  2.57012  1.198420       2  2.3486    3     1  TRAIN   0.387621    0.180744   \n",
       "1  1.50328  1.307950       1  1.5143    1     0  TRAIN   0.226722    0.197263   \n",
       "2  1.22987  0.310166       2  2.1588    3     1  TRAIN   0.185487    0.046779   \n",
       "3  1.03519  0.203118       0  2.1367    1     0  TRAIN   0.156126    0.030634   \n",
       "4  3.48286  0.402844       4  2.9287    3     1  TRAIN   0.525279    0.060756   \n",
       "\n",
       "   scored_scaled  xpts_scaled  pts_scaled  \n",
       "0            0.2     0.782867    1.000000  \n",
       "1            0.1     0.504767    0.333333  \n",
       "2            0.2     0.719600    1.000000  \n",
       "3            0.0     0.712233    0.333333  \n",
       "4            0.4     0.976233    1.000000  "
      ]
     },
     "execution_count": 34,
     "metadata": {},
     "output_type": "execute_result"
    }
   ],
   "source": [
    "df_all.head()"
   ]
  },
  {
   "cell_type": "code",
   "execution_count": 50,
   "metadata": {},
   "outputs": [],
   "source": [
    "class MetricLogger:    \n",
    "    def __init__(self):\n",
    "        self.df = pd.DataFrame(\n",
    "            {'metric': pd.Series([], dtype='str'),\n",
    "            'alg': pd.Series([], dtype='str'),\n",
    "            'value': pd.Series([], dtype='float')})\n",
    "\n",
    "    def add(self, metric, alg, value):\n",
    "        \"\"\"\n",
    "        Добавление значения\n",
    "        \"\"\"\n",
    "        # Удаление значения если оно уже было ранее добавлено\n",
    "        self.df.drop(self.df[(self.df['metric']==metric)&(self.df['alg']==alg)].index, inplace = True)\n",
    "        # Добавление нового значения\n",
    "        temp = [{'metric':metric, 'alg':alg, 'value':value}]\n",
    "        self.df = self.df.append(temp, ignore_index=True)\n",
    "\n",
    "    def get_data_for_metric(self, metric, ascending=True):\n",
    "        \"\"\"\n",
    "        Формирование данных с фильтром по метрике\n",
    "        \"\"\"\n",
    "        temp_data = self.df[self.df['metric']==metric]\n",
    "        temp_data_2 = temp_data.sort_values(by='value', ascending=ascending)\n",
    "        return temp_data_2['alg'].values, temp_data_2['value'].values\n",
    "    \n",
    "    def plot(self, str_header, metric, ascending=True, figsize=(5, 5)):\n",
    "        \"\"\"\n",
    "        Вывод графика\n",
    "        \"\"\"\n",
    "        array_labels, array_metric = self.get_data_for_metric(metric, ascending)\n",
    "        fig, ax1 = plt.subplots(figsize=figsize)\n",
    "        pos = np.arange(len(array_metric))\n",
    "        rects = ax1.barh(pos, array_metric,\n",
    "                         align='center',\n",
    "                         height=0.5, \n",
    "                         tick_label=array_labels)\n",
    "        ax1.set_title(str_header)\n",
    "        for a,b in zip(pos, array_metric):\n",
    "            plt.text(0.5, a-0.05, str(round(b,3)), color='white')\n",
    "        plt.show()    "
   ]
  },
  {
   "cell_type": "code",
   "execution_count": 93,
   "metadata": {},
   "outputs": [
    {
     "data": {
      "text/plain": [
       "((15953, 7), (7383, 7))"
      ]
     },
     "execution_count": 93,
     "metadata": {},
     "output_type": "execute_result"
    }
   ],
   "source": [
    "train=df_all[df_all['data']==\"TRAIN\"]\n",
    "test=df_all[df_all['data']=='TEST']\n",
    "train.shape,test.shape"
   ]
  },
  {
   "cell_type": "code",
   "execution_count": 94,
   "metadata": {},
   "outputs": [],
   "source": [
    "task_cols=['scored', 'xpts']"
   ]
  },
  {
   "cell_type": "code",
   "execution_count": 89,
   "metadata": {},
   "outputs": [
    {
     "data": {
      "text/plain": [
       "((15953, 2), (7383, 2), (15953,), (7383,))"
      ]
     },
     "execution_count": 89,
     "metadata": {},
     "output_type": "execute_result"
    }
   ],
   "source": [
    "X_train=train[task_cols]\n",
    "X_test=test[task_cols]\n",
    "Y_train=train['wins']\n",
    "Y_test=test['wins']\n",
    "X_train.shape,X_test.shape,Y_train.shape,Y_test.shape"
   ]
  },
  {
   "cell_type": "code",
   "execution_count": 90,
   "metadata": {},
   "outputs": [],
   "source": [
    "clas_models = {'LogR': LogisticRegression(), \n",
    "               'KNN_5':KNeighborsClassifier(n_neighbors=5),\n",
    "               'SVC':SVC(),\n",
    "               'Tree':DecisionTreeClassifier(),\n",
    "               'RF':RandomForestClassifier(),\n",
    "               'GB':GradientBoostingClassifier()}"
   ]
  },
  {
   "cell_type": "code",
   "execution_count": 95,
   "metadata": {},
   "outputs": [],
   "source": [
    "clasMetricLogger = MetricLogger()\n",
    "\n",
    "def clas_train_model(model_name, model, clasMetricLogger):\n",
    "    model.fit(X_train, Y_train)\n",
    "    Y_pred = model.predict(X_test)\n",
    "    precision = precision_score(Y_test.values, Y_pred)\n",
    "    recall = recall_score(Y_test.values, Y_pred)\n",
    "    f1 = f1_score(Y_test.values, Y_pred)\n",
    "    roc_auc = roc_auc_score(Y_test.values, Y_pred)\n",
    "    \n",
    "    clasMetricLogger.add('precision', model_name, precision)\n",
    "    clasMetricLogger.add('recall', model_name, recall)\n",
    "    clasMetricLogger.add('f1', model_name, f1)\n",
    "    clasMetricLogger.add('roc_auc', model_name, roc_auc)\n",
    "\n",
    "    print('*****************************************************')\n",
    "    print(model)\n",
    "    print('*****************************************************')\n",
    "    draw_roc_curve(Y_test.values, Y_pred)\n",
    "    \n",
    "    plot_confusion_matrix(model, X_test, Y_test.values, \n",
    "                      display_labels=['0','1'], \n",
    "                      cmap=plt.cm.Blues, normalize='true')\n",
    "    plt.show()"
   ]
  },
  {
   "cell_type": "code",
   "execution_count": 96,
   "metadata": {},
   "outputs": [
    {
     "name": "stdout",
     "output_type": "stream",
     "text": [
      "*****************************************************\n",
      "LogisticRegression(C=1.0, class_weight=None, dual=False, fit_intercept=True,\n",
      "                   intercept_scaling=1, l1_ratio=None, max_iter=100,\n",
      "                   multi_class='auto', n_jobs=None, penalty='l2',\n",
      "                   random_state=None, solver='lbfgs', tol=0.0001, verbose=0,\n",
      "                   warm_start=False)\n",
      "*****************************************************\n"
     ]
    },
    {
     "data": {
      "image/png": "[encoded data removed]",
      "text/plain": [
       "<Figure size 432x288 with 1 Axes>"
      ]
     },
     "metadata": {
      "needs_background": "light"
     },
     "output_type": "display_data"
    },
    {
     "data": {
      "image/png": "[encoded data removed]",
      "text/plain": [
       "<Figure size 432x288 with 2 Axes>"
      ]
     },
     "metadata": {
      "needs_background": "light"
     },
     "output_type": "display_data"
    },
    {
     "name": "stdout",
     "output_type": "stream",
     "text": [
      "*****************************************************\n",
      "KNeighborsClassifier(algorithm='auto', leaf_size=30, metric='minkowski',\n",
      "                     metric_params=None, n_jobs=None, n_neighbors=5, p=2,\n",
      "                     weights='uniform')\n",
      "*****************************************************\n"
     ]
    },
    {
     "data": {
      "image/png": "[encoded data removed]",
      "text/plain": [
       "<Figure size 432x288 with 1 Axes>"
      ]
     },
     "metadata": {
      "needs_background": "light"
     },
     "output_type": "display_data"
    },
    {
     "data": {
      "image/png": "[encoded data removed]",
      "text/plain": [
       "<Figure size 432x288 with 2 Axes>"
      ]
     },
     "metadata": {
      "needs_background": "light"
     },
     "output_type": "display_data"
    },
    {
     "name": "stdout",
     "output_type": "stream",
     "text": [
      "*****************************************************\n",
      "SVC(C=1.0, break_ties=False, cache_size=200, class_weight=None, coef0=0.0,\n",
      "    decision_function_shape='ovr', degree=3, gamma='scale', kernel='rbf',\n",
      "    max_iter=-1, probability=False, random_state=None, shrinking=True,\n",
      "    tol=0.001, verbose=False)\n",
      "*****************************************************\n"
     ]
    },
    {
     "data": {
      "image/png": "[encoded data removed]",
      "text/plain": [
       "<Figure size 432x288 with 1 Axes>"
      ]
     },
     "metadata": {
      "needs_background": "light"
     },
     "output_type": "display_data"
    },
    {
     "data": {
      "image/png": "[encoded data removed]",
      "text/plain": [
       "<Figure size 432x288 with 2 Axes>"
      ]
     },
     "metadata": {
      "needs_background": "light"
     },
     "output_type": "display_data"
    },
    {
     "name": "stdout",
     "output_type": "stream",
     "text": [
      "*****************************************************\n",
      "DecisionTreeClassifier(ccp_alpha=0.0, class_weight=None, criterion='gini',\n",
      "                       max_depth=None, max_features=None, max_leaf_nodes=None,\n",
      "                       min_impurity_decrease=0.0, min_impurity_split=None,\n",
      "                       min_samples_leaf=1, min_samples_split=2,\n",
      "                       min_weight_fraction_leaf=0.0, presort='deprecated',\n",
      "                       random_state=None, splitter='best')\n",
      "*****************************************************\n"
     ]
    },
    {
     "data": {
      "image/png": "[encoded data removed]",
      "text/plain": [
       "<Figure size 432x288 with 1 Axes>"
      ]
     },
     "metadata": {
      "needs_background": "light"
     },
     "output_type": "display_data"
    },
    {
     "data": {
      "image/png": "[encoded data removed]",
      "text/plain": [
       "<Figure size 432x288 with 2 Axes>"
      ]
     },
     "metadata": {
      "needs_background": "light"
     },
     "output_type": "display_data"
    },
    {
     "name": "stdout",
     "output_type": "stream",
     "text": [
      "*****************************************************\n",
      "RandomForestClassifier(bootstrap=True, ccp_alpha=0.0, class_weight=None,\n",
      "                       criterion='gini', max_depth=None, max_features='auto',\n",
      "                       max_leaf_nodes=None, max_samples=None,\n",
      "                       min_impurity_decrease=0.0, min_impurity_split=None,\n",
      "                       min_samples_leaf=1, min_samples_split=2,\n",
      "                       min_weight_fraction_leaf=0.0, n_estimators=100,\n",
      "                       n_jobs=None, oob_score=False, random_state=None,\n",
      "                       verbose=0, warm_start=False)\n",
      "*****************************************************\n"
     ]
    },
    {
     "data": {
      "image/png": "[encoded data removed]",
      "text/plain": [
       "<Figure size 432x288 with 1 Axes>"
      ]
     },
     "metadata": {
      "needs_background": "light"
     },
     "output_type": "display_data"
    },
    {
     "data": {
      "image/png": "[encoded data removed]",
      "text/plain": [
       "<Figure size 432x288 with 2 Axes>"
      ]
     },
     "metadata": {
      "needs_background": "light"
     },
     "output_type": "display_data"
    },
    {
     "name": "stdout",
     "output_type": "stream",
     "text": [
      "*****************************************************\n",
      "GradientBoostingClassifier(ccp_alpha=0.0, criterion='friedman_mse', init=None,\n",
      "                           learning_rate=0.1, loss='deviance', max_depth=3,\n",
      "                           max_features=None, max_leaf_nodes=None,\n",
      "                           min_impurity_decrease=0.0, min_impurity_split=None,\n",
      "                           min_samples_leaf=1, min_samples_split=2,\n",
      "                           min_weight_fraction_leaf=0.0, n_estimators=100,\n",
      "                           n_iter_no_change=None, presort='deprecated',\n",
      "                           random_state=None, subsample=1.0, tol=0.0001,\n",
      "                           validation_fraction=0.1, verbose=0,\n",
      "                           warm_start=False)\n",
      "*****************************************************\n"
     ]
    },
    {
     "data": {
      "image/png": "[encoded data removed]",
      "text/plain": [
       "<Figure size 432x288 with 1 Axes>"
      ]
     },
     "metadata": {
      "needs_background": "light"
     },
     "output_type": "display_data"
    },
    {
     "data": {
      "image/png": "[encoded data removed]",
      "text/plain": [
       "<Figure size 432x288 with 2 Axes>"
      ]
     },
     "metadata": {
      "needs_background": "light"
     },
     "output_type": "display_data"
    }
   ],
   "source": [
    "for model_name, model in clas_models.items():\n",
    "    clas_train_model(model_name, model, clasMetricLogger)"
   ]
  }
 ],
 "metadata": {
  "kernelspec": {
   "display_name": "Python 3",
   "language": "python",
   "name": "python3"
  },
  "language_info": {
   "codemirror_mode": {
    "name": "ipython",
    "version": 3
   },
   "file_extension": ".py",
   "mimetype": "text/x-python",
   "name": "python",
   "nbconvert_exporter": "python",
   "pygments_lexer": "ipython3",
   "version": "3.7.6"
  }
 },
 "nbformat": 4,
 "nbformat_minor": 4
}
